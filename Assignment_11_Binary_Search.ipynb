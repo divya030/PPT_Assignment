{
 "cells": [
  {
   "cell_type": "markdown",
   "id": "78af7884",
   "metadata": {},
   "source": [
    "Question 1:"
   ]
  },
  {
   "cell_type": "code",
   "execution_count": 24,
   "id": "c7353e36",
   "metadata": {},
   "outputs": [
    {
     "data": {
      "text/plain": [
       "2"
      ]
     },
     "execution_count": 24,
     "metadata": {},
     "output_type": "execute_result"
    }
   ],
   "source": [
    "class sroot:\n",
    "    def sqrt(n):\n",
    "        if n == 0 or n == 1:\n",
    "            return n\n",
    "\n",
    "\n",
    "        for i in range(1,n):\n",
    "            if i*i > n:\n",
    "                return i-1\n",
    "            elif i*i == n:\n",
    "                return i\n",
    "        \n",
    "        \n",
    "sroot.sqrt(8)"
   ]
  },
  {
   "cell_type": "markdown",
   "id": "afb3f894",
   "metadata": {},
   "source": [
    "Question 2:"
   ]
  },
  {
   "cell_type": "code",
   "execution_count": 63,
   "id": "cb2c3219",
   "metadata": {},
   "outputs": [
    {
     "name": "stdout",
     "output_type": "stream",
     "text": [
      "5\n"
     ]
    }
   ],
   "source": [
    "a = [1,2,1,3,5,6,4]\n",
    "\n",
    "\n",
    "class peak:\n",
    "    def binary(a):\n",
    "        left = 0\n",
    "        right = len(a)-1\n",
    "        \n",
    "        while left+1 < right:\n",
    "            mid = (left+right) // 2\n",
    "            \n",
    "            if a[mid -1] < a[mid]:\n",
    "                left = mid\n",
    "            else:\n",
    "                right = mid\n",
    "        \n",
    "        return left if a[left] > a[right] else right\n",
    "        \n",
    "        \n",
    "a = peak.binary(a)\n",
    "print(a)"
   ]
  },
  {
   "cell_type": "markdown",
   "id": "2ad5500c",
   "metadata": {},
   "source": [
    "Question 3:"
   ]
  },
  {
   "cell_type": "code",
   "execution_count": 85,
   "id": "890cbf58",
   "metadata": {},
   "outputs": [
    {
     "name": "stdout",
     "output_type": "stream",
     "text": [
      "8\n"
     ]
    }
   ],
   "source": [
    "class array:\n",
    "    def mis_num(a):\n",
    "        n = len(a)+1\n",
    "        total = (n*(n-1))//2\n",
    "\n",
    "        for i in a:\n",
    "            total = total - i\n",
    "\n",
    "        return total\n",
    "\n",
    "\n",
    "x = array.mis_num([9,6,4,2,3,5,7,0,1])\n",
    "print(x)"
   ]
  },
  {
   "cell_type": "markdown",
   "id": "4f90b6ae",
   "metadata": {},
   "source": [
    "Question 4:"
   ]
  },
  {
   "cell_type": "code",
   "execution_count": 108,
   "id": "b38caced",
   "metadata": {},
   "outputs": [
    {
     "data": {
      "text/plain": [
       "3"
      ]
     },
     "execution_count": 108,
     "metadata": {},
     "output_type": "execute_result"
    }
   ],
   "source": [
    "class duplicate:\n",
    "    def find(a):\n",
    "        for i in range(len(a)):\n",
    "            for j in range(len(a)):\n",
    "                if a[i]-a[j] == 0 and i != j:\n",
    "                    return (a[i])\n",
    "                \n",
    "                \n",
    "a = np.array([3,1,3,4,2])\n",
    "duplicate.find(a)"
   ]
  },
  {
   "cell_type": "markdown",
   "id": "bb867478",
   "metadata": {},
   "source": [
    "Question 5:"
   ]
  },
  {
   "cell_type": "code",
   "execution_count": 183,
   "id": "e0719b28",
   "metadata": {},
   "outputs": [
    {
     "name": "stdout",
     "output_type": "stream",
     "text": [
      "[4, 9]\n"
     ]
    }
   ],
   "source": [
    "a = np.array([4,9,5])\n",
    "b = np.array([9,4,9,8,4])\n",
    "c = []\n",
    "\n",
    "class inter:\n",
    "    def section(a):\n",
    "        for i in a:\n",
    "            if i in b and i not in c:\n",
    "                c.append(i)\n",
    "        return c\n",
    "        \n",
    "x = inter.section(a)\n",
    "print(x)"
   ]
  },
  {
   "cell_type": "markdown",
   "id": "ab9135c7",
   "metadata": {},
   "source": [
    "Question 6:"
   ]
  },
  {
   "cell_type": "code",
   "execution_count": 185,
   "id": "26f10039",
   "metadata": {},
   "outputs": [
    {
     "name": "stdout",
     "output_type": "stream",
     "text": [
      "11\n",
      "The original array was [11, 13, 15, 17] rotated 4 times\n"
     ]
    }
   ],
   "source": [
    "a = [11,13,15,17]\n",
    "\n",
    "\n",
    "class rotate:\n",
    "    def mini(a):\n",
    "        r = 1\n",
    "        while r < len(a)+1:\n",
    "            empty = []\n",
    "            for i in range(len(a)):\n",
    "                if i == 0:\n",
    "                    empty.append(a[-1])\n",
    "                else:\n",
    "                    empty.append(a[i-1])\n",
    "\n",
    "            if empty[0] == min(empty):\n",
    "                break\n",
    "            else:\n",
    "                a = empty\n",
    "                r += 1\n",
    "        return empty,r\n",
    "\n",
    "    \n",
    "x , y = rotate.mini(a)\n",
    "print(x[0])\n",
    "print(f\"The original array was {x} rotated {y} times\")"
   ]
  },
  {
   "cell_type": "markdown",
   "id": "5272ae41",
   "metadata": {},
   "source": [
    "Question 7:"
   ]
  },
  {
   "cell_type": "code",
   "execution_count": 192,
   "id": "9c9a142b",
   "metadata": {},
   "outputs": [
    {
     "data": {
      "text/plain": [
       "[-1, -1]"
      ]
     },
     "execution_count": 192,
     "metadata": {},
     "output_type": "execute_result"
    }
   ],
   "source": [
    "a = np.array([])\n",
    "\n",
    "target = 0\n",
    "\n",
    "class index:\n",
    "    def target(a,x):\n",
    "        i = 0\n",
    "\n",
    "        index = []\n",
    "\n",
    "        while i <= len(a)-1:\n",
    "            if a[i] == x:\n",
    "                index.append(i)\n",
    "\n",
    "            i+=1\n",
    "\n",
    "        if len(index) == 0:\n",
    "            return ([-1,-1])\n",
    "        \n",
    "        return (index)\n",
    "    \n",
    "    \n",
    "index.target(a,target)"
   ]
  },
  {
   "cell_type": "markdown",
   "id": "991e040a",
   "metadata": {},
   "source": [
    "Question 8:"
   ]
  },
  {
   "cell_type": "code",
   "execution_count": 194,
   "id": "0aeae74c",
   "metadata": {},
   "outputs": [
    {
     "name": "stdout",
     "output_type": "stream",
     "text": [
      "[2, 2]\n"
     ]
    }
   ],
   "source": [
    "a = np.array([1,2,2,1])\n",
    "b = np.array([2,2])\n",
    "c = []\n",
    "\n",
    "class inter:\n",
    "    def section(a):\n",
    "        for i in a:\n",
    "            if i in b :\n",
    "                c.append(i)\n",
    "        return c\n",
    "        \n",
    "x = inter.section(a)\n",
    "print(x)"
   ]
  }
 ],
 "metadata": {
  "kernelspec": {
   "display_name": "Python 3 (ipykernel)",
   "language": "python",
   "name": "python3"
  },
  "language_info": {
   "codemirror_mode": {
    "name": "ipython",
    "version": 3
   },
   "file_extension": ".py",
   "mimetype": "text/x-python",
   "name": "python",
   "nbconvert_exporter": "python",
   "pygments_lexer": "ipython3",
   "version": "3.9.13"
  }
 },
 "nbformat": 4,
 "nbformat_minor": 5
}
