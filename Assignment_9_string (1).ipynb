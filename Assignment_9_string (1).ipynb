{
 "cells": [
  {
   "cell_type": "code",
   "execution_count": 2,
   "id": "1aa61127",
   "metadata": {},
   "outputs": [],
   "source": [
    "import logging \n",
    "import traceback\n",
    "import numpy as np \n",
    "\n",
    "logging.basicConfig(filename=\"log_file.log\",level=logging.INFO,format='%(asctime)s %(levelname)s %(message)s')"
   ]
  },
  {
   "cell_type": "markdown",
   "id": "3e5d8690",
   "metadata": {},
   "source": [
    "Question 1:"
   ]
  },
  {
   "cell_type": "code",
   "execution_count": 6,
   "id": "fcb1de39",
   "metadata": {},
   "outputs": [
    {
     "name": "stdout",
     "output_type": "stream",
     "text": [
      "True\n"
     ]
    }
   ],
   "source": [
    "class power:\n",
    "    \n",
    "    def check(n):\n",
    "        \"\"\"\n",
    "        Is Given number is a power of 2\n",
    "        \n",
    "        \"\"\"\n",
    "        try:\n",
    "            if n == 1:\n",
    "                return True\n",
    "            if n < 1 or n % 2 != 0:\n",
    "                return False\n",
    "            return power.check(n//2)\n",
    "            \n",
    "\n",
    "            logging.info('Successfully returned the number is power of 2 or not')\n",
    "                \n",
    "        except Exception as e:\n",
    "            logging.error(\"Exception occurred\", traceback.format_exc())\n",
    "        \n",
    "a = power.check(16)\n",
    "print(a)"
   ]
  },
  {
   "cell_type": "markdown",
   "id": "40d436a8",
   "metadata": {},
   "source": [
    "Question 2:"
   ]
  },
  {
   "cell_type": "code",
   "execution_count": 7,
   "id": "715f80ea",
   "metadata": {},
   "outputs": [
    {
     "name": "stdout",
     "output_type": "stream",
     "text": [
      "15\n"
     ]
    }
   ],
   "source": [
    "class summ:\n",
    "    def sum_of(n):\n",
    "        \"\"\"\n",
    "        The sum of the first natural numbers.\n",
    "        \n",
    "        \"\"\"\n",
    "        try:\n",
    "            if n == 1:\n",
    "                return 1\n",
    "            return n+summ.sum_of(n-1)\n",
    "        \n",
    "            logging.info('Successfully returned he sum of the first natural numbers')\n",
    "                \n",
    "        except Exception as e:\n",
    "            logging.error(\"Exception occurred\", traceback.format_exc())\n",
    "            \n",
    "a = summ.sum_of(5)\n",
    "print(a)"
   ]
  },
  {
   "cell_type": "markdown",
   "id": "c746062d",
   "metadata": {},
   "source": [
    "Question 3:"
   ]
  },
  {
   "cell_type": "code",
   "execution_count": 8,
   "id": "43254c1a",
   "metadata": {},
   "outputs": [
    {
     "name": "stdout",
     "output_type": "stream",
     "text": [
      "24\n"
     ]
    }
   ],
   "source": [
    "class mul:\n",
    "    def fact(n):\n",
    "        \"\"\"\n",
    "        Return the factorial of N. \n",
    "        \n",
    "        \"\"\"\n",
    "        try:\n",
    "            if n == 1:\n",
    "                return 1\n",
    "            return n*mul.fact(n-1)\n",
    "        \n",
    "            logging.info('Successfully returned the factorial of N.')\n",
    "                \n",
    "        except Exception as e:\n",
    "            logging.error(\"Exception occurred\", traceback.format_exc())\n",
    "    \n",
    "    \n",
    "a = mul.fact(4)\n",
    "print(a)"
   ]
  },
  {
   "cell_type": "markdown",
   "id": "5d335b38",
   "metadata": {},
   "source": [
    "Question 4:"
   ]
  },
  {
   "cell_type": "code",
   "execution_count": 9,
   "id": "2f8d2fc1",
   "metadata": {},
   "outputs": [
    {
     "name": "stdout",
     "output_type": "stream",
     "text": [
      "32\n"
     ]
    }
   ],
   "source": [
    "class exp:\n",
    "    def poww(n,p):\n",
    "        if p == 0:\n",
    "            return 1\n",
    "        return n*exp.poww(n,p-1)\n",
    "    \n",
    "a = exp.poww(2,5)\n",
    "print(a)"
   ]
  },
  {
   "cell_type": "markdown",
   "id": "b85860e7",
   "metadata": {},
   "source": [
    "Question 5:"
   ]
  },
  {
   "cell_type": "code",
   "execution_count": 10,
   "id": "2a1ecff8",
   "metadata": {},
   "outputs": [
    {
     "data": {
      "text/plain": [
       "45"
      ]
     },
     "execution_count": 10,
     "metadata": {},
     "output_type": "execute_result"
    }
   ],
   "source": [
    "def maxx(a,n):\n",
    "    if (n == 1):\n",
    "        return a[0]\n",
    "    return max(a[n - 1], maxx(a, n - 1))\n",
    "\n",
    "a = list({1, 4, 45, 6, 10, -8})\n",
    "maxx(a,len(a))"
   ]
  },
  {
   "cell_type": "markdown",
   "id": "94d69644",
   "metadata": {},
   "source": [
    "Question 6:"
   ]
  },
  {
   "cell_type": "code",
   "execution_count": 12,
   "id": "46eb99c3",
   "metadata": {},
   "outputs": [
    {
     "name": "stdout",
     "output_type": "stream",
     "text": [
      "23\n"
     ]
    }
   ],
   "source": [
    "class term:\n",
    "    def arth(a,d,n):\n",
    "        if n == 2:\n",
    "            a = a+d\n",
    "            return a\n",
    "\n",
    "        return d + term.arth(a,d,n-1)\n",
    "\n",
    "print(term.arth(5,2,10))"
   ]
  },
  {
   "cell_type": "markdown",
   "id": "f03d1cb4",
   "metadata": {},
   "source": [
    "Question 7:"
   ]
  },
  {
   "cell_type": "code",
   "execution_count": 13,
   "id": "208a36b3",
   "metadata": {},
   "outputs": [],
   "source": [
    "class permuttion:\n",
    "    def per(s,ans):\n",
    "        if len(s) == 0:\n",
    "            print(ans, end = \"  \")\n",
    "            return \n",
    "\n",
    "        for i in range(len(s)):\n",
    "            chrr = s[i]\n",
    "            lft_sub = s[0:i]\n",
    "            ryt_sub = s[i+1:]\n",
    "            sub = lft_sub + ryt_sub\n",
    "            permuttion.per(sub,ans+chrr)"
   ]
  },
  {
   "cell_type": "code",
   "execution_count": 14,
   "id": "161ef4f4",
   "metadata": {},
   "outputs": [
    {
     "name": "stdout",
     "output_type": "stream",
     "text": [
      "abb  abb  bab  bba  bab  bba  "
     ]
    }
   ],
   "source": [
    "s = 'abb'\n",
    "ans = \"\"\n",
    "sv = permuttion.per(s,ans)\n",
    "sv"
   ]
  },
  {
   "cell_type": "markdown",
   "id": "ad515db6",
   "metadata": {},
   "source": [
    "Question 8:"
   ]
  },
  {
   "cell_type": "code",
   "execution_count": 15,
   "id": "40f716b9",
   "metadata": {},
   "outputs": [],
   "source": [
    "class pro:\n",
    "    def mul(arr):\n",
    "        mull = 1\n",
    "        for i in range(len(arr)):\n",
    "            mull = mull * arr[i]\n",
    "        return mull"
   ]
  },
  {
   "cell_type": "code",
   "execution_count": 16,
   "id": "15ed5a22",
   "metadata": {},
   "outputs": [
    {
     "name": "stdout",
     "output_type": "stream",
     "text": [
      "18\n"
     ]
    }
   ],
   "source": [
    "arr = list({1, 6, 3})\n",
    "\n",
    "print(pro.mul(arr))"
   ]
  }
 ],
 "metadata": {
  "kernelspec": {
   "display_name": "Python 3 (ipykernel)",
   "language": "python",
   "name": "python3"
  },
  "language_info": {
   "codemirror_mode": {
    "name": "ipython",
    "version": 3
   },
   "file_extension": ".py",
   "mimetype": "text/x-python",
   "name": "python",
   "nbconvert_exporter": "python",
   "pygments_lexer": "ipython3",
   "version": "3.9.13"
  }
 },
 "nbformat": 4,
 "nbformat_minor": 5
}
