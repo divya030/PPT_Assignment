{
 "cells": [
  {
   "cell_type": "markdown",
   "id": "c685d90d",
   "metadata": {},
   "source": [
    "Question 1:"
   ]
  },
  {
   "cell_type": "code",
   "execution_count": 62,
   "id": "2b21bb22",
   "metadata": {},
   "outputs": [
    {
     "name": "stdout",
     "output_type": "stream",
     "text": [
      "Given Linked List\n",
      "1->2->3->4->5->6->NULL\n",
      "Linked List after deletion of middle\n",
      "1->2->3->5->6->NULL\n"
     ]
    }
   ],
   "source": [
    "class Node:\n",
    "      \n",
    "    def __init__(self):\n",
    "          \n",
    "        self.data = 0\n",
    "        self.next = None\n",
    "    \n",
    "    def newNode(data):\n",
    "  \n",
    "        temp = Node()\n",
    "        temp.data = data\n",
    "        temp.next = None\n",
    "        return temp\n",
    "    \n",
    "    def printList(ptr):\n",
    "  \n",
    "        while (ptr != None):\n",
    "            print(ptr.data, end = '->')\n",
    "            ptr = ptr.next\n",
    "\n",
    "        print('NULL')\n",
    "        \n",
    "    def count(head):\n",
    "        count = 0\n",
    "        while (head!=None):\n",
    "            head = head.next\n",
    "            count+=1\n",
    "        return (count)\n",
    "        \n",
    "        \n",
    "    def delete(head):\n",
    "        if head == None:\n",
    "            return None\n",
    "        if head.next == None:\n",
    "            del(head)\n",
    "            return None\n",
    "        \n",
    "        total = Node.count(head)\n",
    "        mid = total//2\n",
    "        copyhead = head\n",
    "        prev = None\n",
    "        \n",
    "        while mid > 1:\n",
    "            mid -= 1\n",
    "            head = head.next\n",
    "            \n",
    "        \n",
    "        head.next = head.next.next\n",
    "        \n",
    "        return  copyhead\n",
    "    \n",
    "    \n",
    "head = Node.newNode(1)\n",
    "head.next = Node.newNode(2)\n",
    "head.next.next = Node.newNode(3)\n",
    "head.next.next.next = Node.newNode(4)\n",
    "head.next.next.next.next = Node.newNode(5)\n",
    "head.next.next.next.next.next = Node.newNode(6)\n",
    "\n",
    "\n",
    "print(\"Given Linked List\")\n",
    "Node.printList(head)\n",
    "   \n",
    "head = Node.delete(head)\n",
    "   \n",
    "print(\"Linked List after deletion of middle\")\n",
    "Node.printList(head)"
   ]
  },
  {
   "cell_type": "markdown",
   "id": "36aa4358",
   "metadata": {},
   "source": [
    "Question 3:"
   ]
  },
  {
   "cell_type": "code",
   "execution_count": 1,
   "id": "48167ad9",
   "metadata": {},
   "outputs": [],
   "source": [
    "class Node:\n",
    "      \n",
    "    def __init__(self):\n",
    "          \n",
    "        self.data = 0\n",
    "        self.next = None\n",
    "    \n",
    "    def newNode(data):\n",
    "  \n",
    "        temp = Node()\n",
    "        temp.data = data\n",
    "        temp.next = None\n",
    "        return temp\n",
    "    \n",
    "    def printList(ptr):\n",
    "  \n",
    "        while (ptr != None):\n",
    "            print(ptr.data, end = '->')\n",
    "            ptr = ptr.next\n",
    "\n",
    "        print('NULL')\n",
    "        \n",
    "        \n",
    "    def count(head):\n",
    "        count = 0\n",
    "        \n",
    "        while (head!=None):\n",
    "            head = head.next\n",
    "            count+=1\n",
    "        return count\n",
    "        \n",
    "    def last(head,n):\n",
    "        if head == None:\n",
    "            return None\n",
    "        \n",
    "        count = Node.count(head)\n",
    "        \n",
    "        if n > count:\n",
    "            return -1\n",
    "        else:\n",
    "            m = 0\n",
    "            while m < count - n:\n",
    "                head = head.next\n",
    "                m+=1\n",
    "\n",
    "            return head.data"
   ]
  },
  {
   "cell_type": "code",
   "execution_count": 2,
   "id": "def09831",
   "metadata": {},
   "outputs": [
    {
     "name": "stdout",
     "output_type": "stream",
     "text": [
      "Given Linked List\n",
      "1->2->3->4->NULL\n"
     ]
    }
   ],
   "source": [
    "head = Node.newNode(1)\n",
    "head.next = Node.newNode(2)\n",
    "head.next.next = Node.newNode(3)\n",
    "head.next.next.next = Node.newNode(4)\n",
    "\n",
    "\n",
    "print(\"Given Linked List\")\n",
    "Node.printList(head)"
   ]
  },
  {
   "cell_type": "code",
   "execution_count": 4,
   "id": "9540687d",
   "metadata": {},
   "outputs": [
    {
     "data": {
      "text/plain": [
       "3"
      ]
     },
     "execution_count": 4,
     "metadata": {},
     "output_type": "execute_result"
    }
   ],
   "source": [
    "Node.last(head,2)"
   ]
  },
  {
   "cell_type": "markdown",
   "id": "e9f2b49c",
   "metadata": {},
   "source": [
    "Question 6:"
   ]
  },
  {
   "cell_type": "code",
   "execution_count": null,
   "id": "f9b158dc",
   "metadata": {},
   "outputs": [],
   "source": [
    "class Node:\n",
    "      \n",
    "    def __init__(self):\n",
    "          \n",
    "        self.data = 0\n",
    "        self.next = None\n",
    "    \n",
    "    def newNode(data):\n",
    "  \n",
    "        temp = Node()\n",
    "        temp.data = data\n",
    "        temp.next = None\n",
    "        return temp\n",
    "    \n",
    "    def printList(ptr):\n",
    "  \n",
    "        while (ptr != None):\n",
    "            print(ptr.data, end = '->')\n",
    "            ptr = ptr.next\n",
    "\n",
    "        print('NULL')\n",
    "        \n",
    "    def node(head,m,n):\n",
    "        if head == None:\n",
    "            return None\n",
    "        \n",
    "        curr = head\n",
    "        prev = None\n",
    "        while (curr != NULL):\n",
    "            while m > 1:\n",
    "                m -= 1\n",
    "                prev = curr\n",
    "                curr = curr.next\n",
    "                \n",
    "                while n > 0:\n",
    "                    prev.next = curr.next\n",
    "                    n -= 1\n",
    "            \n",
    "                \n",
    "        \n"
   ]
  },
  {
   "cell_type": "code",
   "execution_count": 9,
   "id": "1d4bbec7",
   "metadata": {},
   "outputs": [
    {
     "name": "stdout",
     "output_type": "stream",
     "text": [
      "Given Linked List\n",
      "1->2->3->4->5->6->7->8->NULL\n"
     ]
    }
   ],
   "source": [
    "head = Node.newNode(1)\n",
    "head.next = Node.newNode(2)\n",
    "head.next.next = Node.newNode(3)\n",
    "head.next.next.next = Node.newNode(4)\n",
    "head.next.next.next.next = Node.newNode(5)\n",
    "head.next.next.next.next.next = Node.newNode(6)\n",
    "head.next.next.next.next.next.next = Node.newNode(7)\n",
    "head.next.next.next.next.next.next.next = Node.newNode(8)\n",
    "\n",
    "print(\"Given Linked List\")\n",
    "Node.printList(head)"
   ]
  },
  {
   "cell_type": "code",
   "execution_count": null,
   "id": "a75f29e5",
   "metadata": {},
   "outputs": [],
   "source": [
    "print(Node.node(head,2,2))"
   ]
  },
  {
   "cell_type": "markdown",
   "id": "11a427d6",
   "metadata": {},
   "source": [
    "Question 7:"
   ]
  },
  {
   "cell_type": "code",
   "execution_count": 4,
   "id": "5e87bbd4",
   "metadata": {},
   "outputs": [
    {
     "name": "stdout",
     "output_type": "stream",
     "text": [
      "First Linked List:\n",
      "8 7 18 \n",
      "Second Linked List:\n",
      "32 10 2 4 \n",
      "Modified first linked list:\n",
      "8 32 7 10 18 2 \n",
      "Modified second linked list:\n",
      "4 "
     ]
    }
   ],
   "source": [
    "class Node(object):\n",
    "    def __init__(self, data:int):\n",
    "        self.data = data\n",
    "        self.next = None\n",
    "\n",
    "\n",
    "class LinkedList(object):\n",
    "    def __init__(self):\n",
    "        self.head = None\n",
    "        \n",
    "    def push(self, new_data:int):\n",
    "        new_node = Node(new_data)\n",
    "        new_node.next = self.head\n",
    "        self.head = new_node\n",
    "        \n",
    "    def printList(self):\n",
    "        temp = self.head\n",
    "        while temp != None:\n",
    "            print(temp.data,end=\" \")\n",
    "            temp = temp.next\n",
    "            \n",
    "    def merge(self, p, q):\n",
    "        p_curr = p.head\n",
    "        q_curr = q.head\n",
    "\n",
    "        while p_curr != None and q_curr != None:\n",
    "\n",
    "            p_next = p_curr.next\n",
    "            q_next = q_curr.next\n",
    "            q_curr.next = p_next \n",
    "            p_curr.next = q_curr \n",
    "            p_curr = p_next\n",
    "            q_curr = q_next\n",
    "            q.head = q_curr\n",
    "\n",
    "\n",
    "\n",
    "llist1 = LinkedList()\n",
    "llist2 = LinkedList()\n",
    "\n",
    "llist1.push(18)\n",
    "llist1.push(17)\n",
    "llist1.push(7)\n",
    "llist1.push(8)\n",
    "\n",
    "llist2.push(4)\n",
    "llist2.push(2)\n",
    "llist2.push(10)\n",
    "llist2.push(32)\n",
    "print(\"First Linked List:\")\n",
    "llist1.printList()\n",
    "\n",
    "print(\"\\nSecond Linked List:\")\n",
    "llist2.printList()\n",
    "\n",
    "llist1.merge(p=llist1, q=llist2)\n",
    "\n",
    "print(\"\\nModified first linked list:\")\n",
    "llist1.printList()\n",
    "\n",
    "print(\"\\nModified second linked list:\")\n",
    "llist2.printList()"
   ]
  },
  {
   "cell_type": "markdown",
   "id": "d54ab3d0",
   "metadata": {},
   "source": [
    "Question 8:"
   ]
  },
  {
   "cell_type": "code",
   "execution_count": 5,
   "id": "5c2f9391",
   "metadata": {},
   "outputs": [
    {
     "name": "stdout",
     "output_type": "stream",
     "text": [
      "False\n"
     ]
    }
   ],
   "source": [
    "class Node:\n",
    "    def __init__(self, data):\n",
    "        self.data = data\n",
    "        self.next = None\n",
    "        \n",
    "class LinkedList:\n",
    "    def __init__(self):\n",
    "        self.head = None\n",
    "  \n",
    "    def add_to_front(self, data):\n",
    "        new_node = Node(data)\n",
    "        new_node.next = self.head\n",
    "        self.head = new_node\n",
    "  \n",
    "    def is_circular(self):\n",
    "        if self.head is None:\n",
    "            return False\n",
    "        slow = self.head\n",
    "        fast = self.head.next\n",
    "        while fast is not None and fast.next is not None:\n",
    "            if slow == fast:\n",
    "                return True\n",
    "            slow = slow.next\n",
    "            fast = fast.next.next\n",
    "        return False\n",
    "    \n",
    "list = LinkedList()\n",
    "list.add_to_front(1)\n",
    "list.add_to_front(2)\n",
    "list.add_to_front(3)\n",
    "list.add_to_front(4)\n",
    "print(list.is_circular())"
   ]
  },
  {
   "cell_type": "markdown",
   "id": "7d288d2c",
   "metadata": {},
   "source": [
    "Question 2:"
   ]
  },
  {
   "cell_type": "code",
   "execution_count": 7,
   "id": "32621779",
   "metadata": {},
   "outputs": [
    {
     "name": "stdout",
     "output_type": "stream",
     "text": [
      "True\n"
     ]
    }
   ],
   "source": [
    "class Node:\n",
    "    def __init__(self, d):\n",
    "        self.data = d\n",
    "        self.next = None\n",
    " \n",
    " \n",
    "head = None\n",
    " \n",
    "def push(new_data):\n",
    "    global head\n",
    "    new_node = Node(new_data)\n",
    "    new_node.next = head\n",
    "    head = new_node\n",
    " \n",
    " \n",
    "def detectLoop(h):\n",
    "    global head\n",
    " \n",
    "    if (head == None):\n",
    "        return False\n",
    "    else:\n",
    " \n",
    "        while (head != None):\n",
    "            if (head.data == -1):\n",
    "                return True\n",
    "            else:\n",
    "                head.data = -1\n",
    "                head = head.next\n",
    " \n",
    "        return False\n",
    "\n",
    "\n",
    "push(1)\n",
    "push(2)\n",
    "push(3)\n",
    "push(4)\n",
    "push(5)\n",
    " \n",
    "head.next.next.next.next.next = head.next.next\n",
    " \n",
    "if (detectLoop(head)):\n",
    "    print(\"True\")\n",
    "else:\n",
    "    print(\"False\")"
   ]
  },
  {
   "cell_type": "markdown",
   "id": "1bbac08e",
   "metadata": {},
   "source": [
    "Question 4;"
   ]
  },
  {
   "cell_type": "code",
   "execution_count": 18,
   "id": "846efc0d",
   "metadata": {},
   "outputs": [
    {
     "name": "stdout",
     "output_type": "stream",
     "text": [
      "True\n"
     ]
    }
   ],
   "source": [
    "class Node:\n",
    "    def __init__(self, data):\n",
    " \n",
    "        self.data = data\n",
    "        self.ptr = None\n",
    "        \n",
    "        \n",
    "    def ispalindrome(head):\n",
    "\n",
    "        slow = head\n",
    "        stack = []\n",
    "        ispalin = True\n",
    "        \n",
    "        while slow != None:\n",
    "            stack.append(slow.data)\n",
    "            slow = slow.ptr\n",
    "\n",
    "        while head != None:\n",
    "            i = stack.pop()\n",
    "            if head.data == i:\n",
    "                ispalin = True\n",
    "                \n",
    "            else:\n",
    "                ispalin = False\n",
    "                break\n",
    "            head = head.ptr\n",
    "        return ispalin\n",
    "\n",
    "one = Node(1)\n",
    "two = Node(2)\n",
    "three = Node(3)\n",
    "four = Node(4)\n",
    "five = Node(3)\n",
    "six = Node(2)\n",
    "seven = Node(1)\n",
    " \n",
    "one.ptr = two\n",
    "two.ptr = three\n",
    "three.ptr = four\n",
    "four.ptr = five\n",
    "five.ptr = six\n",
    "six.ptr = seven\n",
    "seven.ptr = None\n",
    " \n",
    "result = Node.ispalindrome(one)\n",
    "        \n",
    "print(result)"
   ]
  }
 ],
 "metadata": {
  "kernelspec": {
   "display_name": "Python 3 (ipykernel)",
   "language": "python",
   "name": "python3"
  },
  "language_info": {
   "codemirror_mode": {
    "name": "ipython",
    "version": 3
   },
   "file_extension": ".py",
   "mimetype": "text/x-python",
   "name": "python",
   "nbconvert_exporter": "python",
   "pygments_lexer": "ipython3",
   "version": "3.9.13"
  }
 },
 "nbformat": 4,
 "nbformat_minor": 5
}
