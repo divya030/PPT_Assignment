{
 "cells": [
  {
   "cell_type": "markdown",
   "id": "0cb0bd80",
   "metadata": {},
   "source": [
    "Question 1:"
   ]
  },
  {
   "cell_type": "code",
   "execution_count": 15,
   "id": "f9078f57",
   "metadata": {},
   "outputs": [
    {
     "name": "stdout",
     "output_type": "stream",
     "text": [
      "2\n"
     ]
    }
   ],
   "source": [
    "a = 'loveleetcode'\n",
    "\n",
    "def index(s):\n",
    "    for i in range(len(a)):\n",
    "        if a.count(a[i]) == 1:\n",
    "            return(i)\n",
    "        else:\n",
    "            continue\n",
    "        \n",
    "    return (-1)\n",
    "\n",
    "s = index(a)\n",
    "print(s)"
   ]
  },
  {
   "cell_type": "markdown",
   "id": "afa99e13",
   "metadata": {},
   "source": [
    "Question 2:"
   ]
  },
  {
   "cell_type": "code",
   "execution_count": 18,
   "id": "baa29972",
   "metadata": {},
   "outputs": [
    {
     "data": {
      "text/plain": [
       "10"
      ]
     },
     "execution_count": 18,
     "metadata": {},
     "output_type": "execute_result"
    }
   ],
   "source": [
    "class array:\n",
    "    def aircular(self, nums):\n",
    "        cur_max = 0\n",
    "        cur_min = 0\n",
    "        _sum = 0\n",
    "        max_sum = nums[0]\n",
    "        min_sum = nums[0]\n",
    "        for num in nums:\n",
    "            cur_max = max(cur_max, 0) + num\n",
    "            max_sum = max(max_sum, cur_max)\n",
    "            cur_min = min(cur_min, 0) + num\n",
    "            min_sum = min(min_sum, cur_min)\n",
    "            _sum += num\n",
    "        return max_sum if _sum == min_sum else max(max_sum, _sum - min_sum)\n",
    "    \n",
    "    \n",
    "x = array()\n",
    "x.aircular([5,-3,5])"
   ]
  },
  {
   "cell_type": "markdown",
   "id": "516616ab",
   "metadata": {},
   "source": [
    "Question 3:"
   ]
  },
  {
   "cell_type": "code",
   "execution_count": 19,
   "id": "4c8f17d4",
   "metadata": {},
   "outputs": [
    {
     "data": {
      "text/plain": [
       "0"
      ]
     },
     "execution_count": 19,
     "metadata": {},
     "output_type": "execute_result"
    }
   ],
   "source": [
    "class school:\n",
    "    def cafe(self, students, sandwiches) :\n",
    "        curr = 0\n",
    "        \n",
    "        while students:\n",
    "            if(students[0] == sandwiches[0]):\n",
    "                curr = 0\n",
    "                students.pop(0)\n",
    "                sandwiches.pop(0)\n",
    "            else:\n",
    "                curr += 1\n",
    "                students.append(students.pop(0))\n",
    "            \n",
    "            if(curr >= len(students)):\n",
    "                break\n",
    "        \n",
    "        return len(students)\n",
    "    \n",
    "x = school()\n",
    "x.cafe([1,1,0,0],[0,1,0,1])"
   ]
  },
  {
   "cell_type": "markdown",
   "id": "b7da623f",
   "metadata": {},
   "source": [
    "Question 5:"
   ]
  },
  {
   "cell_type": "code",
   "execution_count": 23,
   "id": "fd2a4ca2",
   "metadata": {},
   "outputs": [
    {
     "data": {
      "text/plain": [
       "3"
      ]
     },
     "execution_count": 23,
     "metadata": {},
     "output_type": "execute_result"
    }
   ],
   "source": [
    "class game:\n",
    "    def winner(self, n, k) :\n",
    "        players = [playerNum+1 for playerNum in range(n)] \n",
    "        idx = 0 \n",
    "        while len(players)>1:\n",
    "            idx = (idx+k-1) % len(players) \n",
    "            players.pop(idx) \n",
    "        return players[0] \n",
    "    \n",
    "x = game()\n",
    "x.winner(5,2)"
   ]
  },
  {
   "cell_type": "markdown",
   "id": "24f95067",
   "metadata": {},
   "source": [
    "Question 6:"
   ]
  },
  {
   "cell_type": "code",
   "execution_count": 24,
   "id": "62eacac1",
   "metadata": {},
   "outputs": [
    {
     "data": {
      "text/plain": [
       "[2, 13, 3, 11, 5, 17, 7]"
      ]
     },
     "execution_count": 24,
     "metadata": {},
     "output_type": "execute_result"
    }
   ],
   "source": [
    "class cards:\n",
    "    def reverse(self, deck) :\n",
    "        \n",
    "        n=len(deck)\n",
    "        arr=list(range(n))\n",
    "\n",
    "        ans=[0]*n\n",
    "        deck.sort()\n",
    "\n",
    "        while arr:\n",
    "            ans[arr.pop(0)]=deck.pop(0)\n",
    "            if arr:arr.append(arr.pop(0))\n",
    "        \n",
    "\n",
    "        return ans\n",
    "    \n",
    "    \n",
    "x = cards()\n",
    "x.reverse([17,13,11,2,3,5,7])"
   ]
  }
 ],
 "metadata": {
  "kernelspec": {
   "display_name": "Python 3 (ipykernel)",
   "language": "python",
   "name": "python3"
  },
  "language_info": {
   "codemirror_mode": {
    "name": "ipython",
    "version": 3
   },
   "file_extension": ".py",
   "mimetype": "text/x-python",
   "name": "python",
   "nbconvert_exporter": "python",
   "pygments_lexer": "ipython3",
   "version": "3.9.13"
  }
 },
 "nbformat": 4,
 "nbformat_minor": 5
}
