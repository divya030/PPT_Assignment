{
 "cells": [
  {
   "cell_type": "code",
   "execution_count": 1,
   "id": "cb47b93d",
   "metadata": {},
   "outputs": [],
   "source": [
    "import logging \n",
    "import traceback\n",
    "import numpy as np \n",
    "\n",
    "logging.basicConfig(filename=\"log_file.log\",level=logging.INFO,format='%(asctime)s %(levelname)s %(message)s')"
   ]
  },
  {
   "cell_type": "markdown",
   "id": "34384a14",
   "metadata": {},
   "source": [
    "Question 1:"
   ]
  },
  {
   "cell_type": "code",
   "execution_count": 2,
   "id": "85519971",
   "metadata": {},
   "outputs": [
    {
     "name": "stdout",
     "output_type": "stream",
     "text": [
      "False\n"
     ]
    }
   ],
   "source": [
    "class power:\n",
    "    \n",
    "    def check(n):\n",
    "        \"\"\"\n",
    "        Is Given number is a power of 3\n",
    "        \n",
    "        \"\"\"\n",
    "        try:\n",
    "            if n == 1:\n",
    "                return True\n",
    "            if n < 1 or n % 3 != 0:\n",
    "                return False\n",
    "            return power.check(n//3)\n",
    "            \n",
    "\n",
    "            logging.info('Successfully returned the number is power of 2 or not')\n",
    "                \n",
    "        except Exception as e:\n",
    "            logging.error(\"Exception occurred\", traceback.format_exc())\n",
    "        \n",
    "a = power.check(-1)\n",
    "print(a)"
   ]
  },
  {
   "cell_type": "markdown",
   "id": "2f02a50e",
   "metadata": {},
   "source": [
    "Question 2:"
   ]
  },
  {
   "cell_type": "code",
   "execution_count": 3,
   "id": "dfee239b",
   "metadata": {},
   "outputs": [
    {
     "data": {
      "text/plain": [
       "[6]"
      ]
     },
     "execution_count": 3,
     "metadata": {},
     "output_type": "execute_result"
    }
   ],
   "source": [
    "class remove:\n",
    "    def num(a):\n",
    "        \"\"\"\n",
    "        Return the last element of a list\n",
    "        \n",
    "        \"\"\"\n",
    "        a = np.arange(1,a)\n",
    "        try:\n",
    "            for i in range(len(a)//2):\n",
    "                if len(a) != 1:\n",
    "                    a = a[1::2]\n",
    "                    a = a[::2]\n",
    "            return list(a)\n",
    "        \n",
    "            logging.info('Successfully returned the last element of a list')\n",
    "                \n",
    "        except Exception as e:\n",
    "            logging.error(\"Exception occurred\", traceback.format_exc())\n",
    "    \n",
    "    \n",
    "a = 9\n",
    "\n",
    "remove.num(a)"
   ]
  },
  {
   "cell_type": "markdown",
   "id": "c3e7e5d3",
   "metadata": {},
   "source": [
    "Question 4:"
   ]
  },
  {
   "cell_type": "code",
   "execution_count": 4,
   "id": "46779a1c",
   "metadata": {},
   "outputs": [
    {
     "data": {
      "text/plain": [
       "13"
      ]
     },
     "execution_count": 4,
     "metadata": {},
     "output_type": "execute_result"
    }
   ],
   "source": [
    "a = \"GEEKSFORGEEKS\"\n",
    "\n",
    "class count:\n",
    "    def length(a):\n",
    "        if a == \"\":\n",
    "            return 0\n",
    "        return 1+ count.length(a[1:])\n",
    "\n",
    "count.length(a)"
   ]
  },
  {
   "cell_type": "markdown",
   "id": "40270fdc",
   "metadata": {},
   "source": [
    "Question 7:"
   ]
  },
  {
   "cell_type": "code",
   "execution_count": 5,
   "id": "86bb8589",
   "metadata": {},
   "outputs": [],
   "source": [
    "class permuttion:\n",
    "    def per(s,ans):\n",
    "        if len(s) == 0:\n",
    "            print(ans, end = \"  \")\n",
    "            return \n",
    "\n",
    "        for i in range(len(s)):\n",
    "            chrr = s[i]\n",
    "            lft_sub = s[0:i]\n",
    "            ryt_sub = s[i+1:]\n",
    "            sub = lft_sub + ryt_sub\n",
    "            permuttion.per(sub,ans+chrr)"
   ]
  },
  {
   "cell_type": "code",
   "execution_count": 6,
   "id": "5bac6808",
   "metadata": {},
   "outputs": [
    {
     "name": "stdout",
     "output_type": "stream",
     "text": [
      "abb  abb  bab  bba  bab  bba  "
     ]
    }
   ],
   "source": [
    "s = 'abb'\n",
    "ans = \"\"\n",
    "sv = permuttion.per(s,ans)\n",
    "sv"
   ]
  },
  {
   "cell_type": "markdown",
   "id": "8097adf0",
   "metadata": {},
   "source": [
    "Question 8:"
   ]
  },
  {
   "cell_type": "code",
   "execution_count": 7,
   "id": "77f0e87f",
   "metadata": {},
   "outputs": [
    {
     "data": {
      "text/plain": [
       "12"
      ]
     },
     "execution_count": 7,
     "metadata": {},
     "output_type": "execute_result"
    }
   ],
   "source": [
    "a = 'geeksforgeeks portal'\n",
    "\n",
    "\n",
    "class con:\n",
    "    def consonants(sring):\n",
    "        count = 0\n",
    "        for i in sring:\n",
    "            if i not in ['a','e','i','o','u'] and i != \" \":\n",
    "                count += 1\n",
    "        return(count)\n",
    "    \n",
    "con.consonants(a)"
   ]
  },
  {
   "cell_type": "markdown",
   "id": "08b26da2",
   "metadata": {},
   "source": [
    "Question 5:"
   ]
  },
  {
   "cell_type": "code",
   "execution_count": 8,
   "id": "f47d7738",
   "metadata": {},
   "outputs": [
    {
     "data": {
      "text/plain": [
       "4"
      ]
     },
     "execution_count": 8,
     "metadata": {},
     "output_type": "execute_result"
    }
   ],
   "source": [
    "\n",
    "class count:\n",
    "    def lettr(word):\n",
    "        v = []\n",
    "        b = 0\n",
    "        for i in range(1,len(word)+1):\n",
    "            for j in range(len(word)):\n",
    "                x = word[j:i]\n",
    "                if len(x) > 0:\n",
    "                    v.append(x)\n",
    "        for i in v:\n",
    "            if i[0] == i[-1]:\n",
    "                b += 1\n",
    "\n",
    "        return (b)\n",
    "    \n",
    "    \n",
    "count.lettr('aba')"
   ]
  },
  {
   "cell_type": "markdown",
   "id": "55b9693e",
   "metadata": {},
   "source": [
    "Question 6:"
   ]
  },
  {
   "cell_type": "code",
   "execution_count": 9,
   "id": "de9d9c58",
   "metadata": {},
   "outputs": [
    {
     "name": "stdout",
     "output_type": "stream",
     "text": [
      "Move disk 1 from rod 1 to rod 3\n",
      "Move disk 2 from rod 1 to rod 2\n",
      "Move disk 1 from rod 3 to rod 2\n",
      "Move disk 3 from rod 1 to rod 3\n",
      "Move disk 1 from rod 2 to rod 1\n",
      "Move disk 2 from rod 2 to rod 3\n",
      "Move disk 1 from rod 1 to rod 3\n"
     ]
    },
    {
     "data": {
      "text/plain": [
       "7"
      ]
     },
     "execution_count": 9,
     "metadata": {},
     "output_type": "execute_result"
    }
   ],
   "source": [
    "class hanoi:\n",
    "    x = 0\n",
    "    def tower(n,s,d,a):\n",
    "        if n==0:\n",
    "            return \n",
    "        hanoi.tower(n-1,s,a,d)\n",
    "        hanoi.x += 1\n",
    "        print(\"Move disk\", n, \"from rod\", s, \"to rod\", d)\n",
    "        \n",
    "        hanoi.tower(n-1,a,d,s)\n",
    "        \n",
    "        return (hanoi.x)\n",
    "    \n",
    "hanoi.tower(3,1,3,2)"
   ]
  },
  {
   "cell_type": "markdown",
   "id": "0b59d9ff",
   "metadata": {},
   "source": [
    "Question 3:"
   ]
  },
  {
   "cell_type": "code",
   "execution_count": 245,
   "id": "938cebb3",
   "metadata": {},
   "outputs": [
    {
     "name": "stdout",
     "output_type": "stream",
     "text": [
      "abcd\n",
      "abc\n",
      "abd\n",
      "ab\n",
      "acd\n",
      "ac\n",
      "ad\n",
      "a\n",
      "bcd\n",
      "bc\n",
      "bd\n",
      "b\n",
      "cd\n",
      "c\n",
      "d\n",
      "\n"
     ]
    }
   ],
   "source": [
    "def subset(s,index,curr):\n",
    "    \n",
    "    if index == len(s):\n",
    "        print(curr)\n",
    "        return\n",
    "    subset(s,index+1,curr+s[index])\n",
    "    subset(s,index+1,curr)\n",
    "    \n",
    "    \n",
    "a = subset('abcd',0,\"\")"
   ]
  }
 ],
 "metadata": {
  "kernelspec": {
   "display_name": "Python 3 (ipykernel)",
   "language": "python",
   "name": "python3"
  },
  "language_info": {
   "codemirror_mode": {
    "name": "ipython",
    "version": 3
   },
   "file_extension": ".py",
   "mimetype": "text/x-python",
   "name": "python",
   "nbconvert_exporter": "python",
   "pygments_lexer": "ipython3",
   "version": "3.9.13"
  }
 },
 "nbformat": 4,
 "nbformat_minor": 5
}
