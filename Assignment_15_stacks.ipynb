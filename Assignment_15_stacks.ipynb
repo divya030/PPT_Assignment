{
 "cells": [
  {
   "cell_type": "markdown",
   "id": "72817a15",
   "metadata": {},
   "source": [
    "Qnuestion 1:"
   ]
  },
  {
   "cell_type": "code",
   "execution_count": 1,
   "id": "e3ab667e",
   "metadata": {},
   "outputs": [
    {
     "data": {
      "text/plain": [
       "[8, -1, 1, 3, -1]"
      ]
     },
     "execution_count": 1,
     "metadata": {},
     "output_type": "execute_result"
    }
   ],
   "source": [
    "def large_num(arr):\n",
    "    b = []\n",
    "    for i in range(len(a)):\n",
    "        for j in range(i+1,len(a)):\n",
    "            c = 0\n",
    "            if a[i] < a[j]:\n",
    "                c = a[j]\n",
    "                b.append(a[j])\n",
    "                break\n",
    "            else:\n",
    "                continue\n",
    "        else:\n",
    "            b.append(-1)\n",
    "            \n",
    "    return b\n",
    "\n",
    "            \n",
    "        \n",
    "a = [6,8,0,1,3]\n",
    "large_num(a)"
   ]
  },
  {
   "cell_type": "markdown",
   "id": "8b67b883",
   "metadata": {},
   "source": [
    "Question 2:"
   ]
  },
  {
   "cell_type": "code",
   "execution_count": 8,
   "id": "86d20768",
   "metadata": {},
   "outputs": [
    {
     "data": {
      "text/plain": [
       "[-1, 1, -1, 0, 3, 4]"
      ]
     },
     "execution_count": 8,
     "metadata": {},
     "output_type": "execute_result"
    }
   ],
   "source": [
    "def smal_num(arr):\n",
    "    b = []\n",
    "    for i in range(0,len(a)):\n",
    "        if i == 0:\n",
    "            b.append(-1)\n",
    "        else:\n",
    "            x = a[i-1::-1]\n",
    "            for j in range(len(x)):\n",
    "                if a[i] > x[j]:\n",
    "                    b.append(x[j])\n",
    "                    break\n",
    "                else:\n",
    "                    continue\n",
    "            else:\n",
    "                b.append(-1)\n",
    "\n",
    "    return(b)\n",
    "\n",
    "\n",
    "a = [1, 5, 0, 3, 4, 5]\n",
    "smal_num(a)"
   ]
  },
  {
   "cell_type": "markdown",
   "id": "db6b78c3",
   "metadata": {},
   "source": [
    "Question 4:"
   ]
  },
  {
   "cell_type": "code",
   "execution_count": 52,
   "id": "727042d3",
   "metadata": {},
   "outputs": [
    {
     "data": {
      "text/plain": [
       "[6, 7, 1, 2, 3]"
      ]
     },
     "execution_count": 52,
     "metadata": {},
     "output_type": "execute_result"
    }
   ],
   "source": [
    "a = [3,2,1,7,6]\n",
    "\n",
    "def reverse(arr):\n",
    "    c = []\n",
    "    for i in range(len(arr)):\n",
    "        c.append(arr[len(arr)-(i+1)])\n",
    "    return (c)\n",
    "\n",
    "\n",
    "reverse(a)"
   ]
  },
  {
   "cell_type": "markdown",
   "id": "d68c22b2",
   "metadata": {},
   "source": [
    "Question 5:"
   ]
  },
  {
   "cell_type": "code",
   "execution_count": 59,
   "id": "5367acdd",
   "metadata": {},
   "outputs": [
    {
     "data": {
      "text/plain": [
       "'skeeGrofskeeG'"
      ]
     },
     "execution_count": 59,
     "metadata": {},
     "output_type": "execute_result"
    }
   ],
   "source": [
    "s = 'GeeksforGeeks'\n",
    "\n",
    "def reverse(s):\n",
    "    c = []\n",
    "    for i in range(len(s)):\n",
    "        c.append(s[len(s)-(i+1)])\n",
    "    return (\"\".join(c))\n",
    "\n",
    "reverse(s)"
   ]
  },
  {
   "cell_type": "markdown",
   "id": "d475b880",
   "metadata": {},
   "source": [
    "Question 7:"
   ]
  },
  {
   "cell_type": "code",
   "execution_count": 68,
   "id": "bcfbcaff",
   "metadata": {},
   "outputs": [
    {
     "data": {
      "text/plain": [
       "-2"
      ]
     },
     "execution_count": 68,
     "metadata": {},
     "output_type": "execute_result"
    }
   ],
   "source": [
    "class MinStack:\n",
    "    def __init__(self):\n",
    "        self.stack = []  \n",
    "        self.min_stack = []  \n",
    "\n",
    "    def push(self, val):\n",
    "        self.stack.append(val) \n",
    "        if not self.min_stack or val <= self.min_stack[-1]:  #\n",
    "            self.min_stack.append(val)  \n",
    "    def pop(self):\n",
    "        if self.stack:  \n",
    "            if self.stack[-1] == self.min_stack[-1]:  \n",
    "                self.min_stack.pop() \n",
    "            self.stack.pop() \n",
    "\n",
    "    def top(self) -> int:\n",
    "        if self.stack:  \n",
    "            return self.stack[-1]  \n",
    "\n",
    "    def getMin(self) -> int:\n",
    "        if self.min_stack:  \n",
    "            return self.min_stack[-1] \n",
    "        \n",
    "        \n",
    "minStack = MinStack()\n",
    "minStack.push(-2)\n",
    "minStack.push(0)\n",
    "minStack.push(-3)\n",
    "minStack.getMin()\n",
    "minStack.pop()\n",
    "minStack.top()\n",
    "minStack.getMin()"
   ]
  },
  {
   "cell_type": "code",
   "execution_count": null,
   "id": "e00c5a5a",
   "metadata": {},
   "outputs": [],
   "source": [
    "[0,1,0,2,1,0,1,3,2,1,2,1]"
   ]
  },
  {
   "cell_type": "markdown",
   "id": "c0d67b1a",
   "metadata": {},
   "source": [
    "Question 6:"
   ]
  },
  {
   "cell_type": "code",
   "execution_count": 72,
   "id": "1c3be644",
   "metadata": {},
   "outputs": [
    {
     "data": {
      "text/plain": [
       "-3"
      ]
     },
     "execution_count": 72,
     "metadata": {},
     "output_type": "execute_result"
    }
   ],
   "source": [
    "class postfix :\n",
    "    def evall( S):\n",
    "        st=[]\n",
    "        for x in S:\n",
    "            if x.isnumeric():\n",
    "                st.append(x)\n",
    "            else:\n",
    "                b=int(st.pop())\n",
    "                a=int(st.pop())\n",
    "                if x=='+':\n",
    "                    st.append(a+b)\n",
    "                elif x=='*':\n",
    "                    st.append(a*b)\n",
    "                elif x=='/':\n",
    "                    st.append(a/b)\n",
    "                elif x=='-':\n",
    "                    st.append(a-b)\n",
    "        return int(st.pop())\n",
    "    \n",
    "postfix.evall(\"123+*8-\")"
   ]
  }
 ],
 "metadata": {
  "kernelspec": {
   "display_name": "Python 3 (ipykernel)",
   "language": "python",
   "name": "python3"
  },
  "language_info": {
   "codemirror_mode": {
    "name": "ipython",
    "version": 3
   },
   "file_extension": ".py",
   "mimetype": "text/x-python",
   "name": "python",
   "nbconvert_exporter": "python",
   "pygments_lexer": "ipython3",
   "version": "3.9.13"
  }
 },
 "nbformat": 4,
 "nbformat_minor": 5
}
