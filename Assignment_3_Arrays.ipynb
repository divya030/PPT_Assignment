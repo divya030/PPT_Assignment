{
 "cells": [
  {
   "cell_type": "markdown",
   "id": "d175f9c4",
   "metadata": {},
   "source": [
    "Question 1:"
   ]
  },
  {
   "cell_type": "code",
   "execution_count": 48,
   "id": "c82950ec",
   "metadata": {},
   "outputs": [],
   "source": [
    "import logging \n",
    "import traceback\n",
    "import numpy as np \n",
    "\n",
    "logging.basicConfig(filename=\"log_file.log\",level=logging.INFO,format='%(asctime)s %(levelname)s %(message)s')"
   ]
  },
  {
   "cell_type": "code",
   "execution_count": 57,
   "id": "a2ea999f",
   "metadata": {},
   "outputs": [
    {
     "data": {
      "text/plain": [
       "8"
      ]
     },
     "execution_count": 57,
     "metadata": {},
     "output_type": "execute_result"
    }
   ],
   "source": [
    "class summ:\n",
    "    \n",
    "    def __init__(self,input_array,target):\n",
    "        \n",
    "        self.input_array = input_array\n",
    "        self.target = target\n",
    "        \n",
    "    def sum_of_target(self):\n",
    "        \"\"\"\n",
    "        Rerurns the sum of three integres that is closest to the target.\n",
    "        \n",
    "        \"\"\"\n",
    "        \n",
    "        try:\n",
    "        \n",
    "            summ = []\n",
    "            diff = []\n",
    "\n",
    "            for i in range(len(self.input_array)):\n",
    "                if i <= len(self.input_array) - 3:\n",
    "                    add = self.input_array[i] + self.input_array[i+1] + self.input_array[i+2]\n",
    "                    summ.append(add)\n",
    "                    diff.append(abs(add - self.target))\n",
    "\n",
    "            index = diff.index(min(diff))\n",
    "            return summ[index]\n",
    "        \n",
    "            logging.info('Successfully returned the summ of integer nearer to target')\n",
    "                \n",
    "        except Exception as e:\n",
    "            logging.error(\"Exception occurred\", traceback.format_exc())\n",
    "\n",
    "    \n",
    "    \n",
    "a = summ(np.array([-1,2,1,-4,5,7,6,8,7,6]),11)\n",
    "a.sum_of_target()"
   ]
  },
  {
   "cell_type": "markdown",
   "id": "682e1cf0",
   "metadata": {},
   "source": [
    "Question 2:"
   ]
  },
  {
   "cell_type": "code",
   "execution_count": 570,
   "id": "2bb57f2b",
   "metadata": {},
   "outputs": [
    {
     "data": {
      "text/plain": [
       "[[1, 0, -1, 0], [1, -1, -2, 2], [0, 0, -2, 2]]"
      ]
     },
     "execution_count": 570,
     "metadata": {},
     "output_type": "execute_result"
    }
   ],
   "source": [
    "from itertools import combinations\n",
    "\n",
    "class comb:\n",
    "    \n",
    "    def __init__(self,input_array,target):\n",
    "        \n",
    "        self.input_array = input_array\n",
    "        self.target = target\n",
    "        \n",
    "    def sum_of_target(self):\n",
    "        \n",
    "        comb = combinations(self.input_array, 4)\n",
    "        combi = []\n",
    "        \n",
    "        for i in comb:\n",
    "            if sum(i) == self.target:\n",
    "                combi.append(list(i))\n",
    "                \n",
    "        return combi\n",
    "    \n",
    "a = comb(np.array([1,0,-1,0,-2,2]),0)\n",
    "a.sum_of_target()"
   ]
  },
  {
   "cell_type": "markdown",
   "id": "805ab837",
   "metadata": {},
   "source": [
    "Question 4:"
   ]
  },
  {
   "cell_type": "code",
   "execution_count": 122,
   "id": "4e390e74",
   "metadata": {},
   "outputs": [
    {
     "data": {
      "text/plain": [
       "2"
      ]
     },
     "execution_count": 122,
     "metadata": {},
     "output_type": "execute_result"
    }
   ],
   "source": [
    "class index:\n",
    "    \n",
    "    def __init__(self,input_array,target):\n",
    "        \n",
    "        self.input_array = input_array\n",
    "        self.target = target\n",
    "        \n",
    "    def indexx(self):\n",
    "        \"\"\"\n",
    "        Returns the index of the integer\n",
    "        \n",
    "        \"\"\"\n",
    "        try:\n",
    "            \n",
    "            for i in range(len(self.input_array)):\n",
    "                if self.target == self.input_array[i]:\n",
    "                    return i \n",
    "\n",
    "                elif self.input_array[i] < self.target and self.input_array[i+1] > self.target:\n",
    "                    return (i+1)\n",
    "\n",
    "            logging.info('Successfully returned index of the integer')\n",
    "                \n",
    "        except Exception as e:\n",
    "            logging.error(\"Exception occurred\", traceback.format_exc())\n",
    "\n",
    "           \n",
    "        \n",
    "        \n",
    "a = index(np.array( [1,3,5,6]),5)\n",
    "a.indexx()"
   ]
  },
  {
   "cell_type": "markdown",
   "id": "2162ed02",
   "metadata": {},
   "source": [
    "Question 5:"
   ]
  },
  {
   "cell_type": "code",
   "execution_count": 134,
   "id": "8d39d0ca",
   "metadata": {},
   "outputs": [
    {
     "data": {
      "text/plain": [
       "array([1, 2, 4])"
      ]
     },
     "execution_count": 134,
     "metadata": {},
     "output_type": "execute_result"
    }
   ],
   "source": [
    "class index:\n",
    "    \n",
    "    def __init__(self,input_array):\n",
    "        \n",
    "        self.input_array = input_array\n",
    "        \n",
    "    def to_int(self):\n",
    "        \n",
    "        \"\"\"  \n",
    "        Returns an incremented array\n",
    "        \n",
    "        \"\"\"\n",
    "        try:\n",
    "        \n",
    "            input_array = [str(i)  for i in self.input_array]\n",
    "\n",
    "            integer = int(\"\".join(input_array))\n",
    "\n",
    "            increment = list(str(integer + 1))\n",
    "\n",
    "            array = np.array(increment)\n",
    "\n",
    "            return array.astype(int)\n",
    "        \n",
    "            logging.info('Successfully returned index of the integer')\n",
    "                \n",
    "        except Exception as e:\n",
    "            logging.error(\"Exception occurred\", traceback.format_exc())\n",
    "\n",
    "    \n",
    "a = index(np.array([1,2,3]))\n",
    "a.to_int()"
   ]
  },
  {
   "cell_type": "markdown",
   "id": "b7020c29",
   "metadata": {},
   "source": [
    "Question 6:"
   ]
  },
  {
   "cell_type": "code",
   "execution_count": 148,
   "id": "0c200da6",
   "metadata": {},
   "outputs": [
    {
     "data": {
      "text/plain": [
       "1"
      ]
     },
     "execution_count": 148,
     "metadata": {},
     "output_type": "execute_result"
    }
   ],
   "source": [
    "class once:\n",
    "    \n",
    "    def __init__(self,input_array):\n",
    "        \n",
    "        self.input_array = input_array\n",
    "        \n",
    "    def value(self):\n",
    "        \"\"\"\n",
    "        Returns the non repetstive values\n",
    "        \n",
    "        \"\"\"\n",
    "        try:\n",
    "            \n",
    "            input_array = list(self.input_array)\n",
    "\n",
    "            for i in input_array:\n",
    "                if input_array.count(i) == 1:\n",
    "                    return (i)\n",
    "            \n",
    "            logging.info('Returns the non repetstive values')\n",
    "                \n",
    "        except Exception as e:\n",
    "            logging.error(\"Exception occurred\", traceback.format_exc())\n",
    "            \n",
    "\n",
    "a = once(np.array([2,2,1]))\n",
    "a.value()"
   ]
  },
  {
   "cell_type": "markdown",
   "id": "c7eb8642",
   "metadata": {},
   "source": [
    "Question 7:"
   ]
  },
  {
   "cell_type": "code",
   "execution_count": 189,
   "id": "947aa9bd",
   "metadata": {},
   "outputs": [
    {
     "data": {
      "text/plain": [
       "[[2, 2], [4, 49], [51, 74], [76, 99]]"
      ]
     },
     "execution_count": 189,
     "metadata": {},
     "output_type": "execute_result"
    }
   ],
   "source": [
    "class rangee:\n",
    "    \n",
    "    def __init__(self,input_array,lower,upper):\n",
    "        \n",
    "        self.input_array = input_array\n",
    "        self.lower = lower\n",
    "        self.upper = upper\n",
    "        \n",
    "    def values(self):\n",
    "        \"\"\"\n",
    "        Returns an array of missing values in a range.\n",
    "        \n",
    "        \"\"\"\n",
    "        try:\n",
    "        \n",
    "            missing_range = []\n",
    "\n",
    "            for i in range(len(self.input_array)):\n",
    "\n",
    "                if self.input_array[i] > self.lower and i == 0:\n",
    "                    missing_range.append([self.lower,self.input_array[i] - 1])\n",
    "\n",
    "                elif i < len(self.input_array) - 1:\n",
    "                    if self.input_array[i+1] != self.input_array[i] + 1:\n",
    "                        missing_range.append([self.input_array[i]+1, self.input_array[i+1] - 1])\n",
    "\n",
    "\n",
    "                elif i == len(self.input_array) - 1 and self.input_array[i] < self.upper:\n",
    "                    missing_range.append([self.input_array[i]+1,self.upper])\n",
    "\n",
    "            return missing_range\n",
    "        \n",
    "            logging.info('Returns an array of missing values in a range.')\n",
    "                \n",
    "        except Exception as e:\n",
    "            logging.error(\"Exception occurred\", traceback.format_exc())\n",
    "    \n",
    "a = rangee(np.array([0,1,3,50,75]),0,99)\n",
    "a.values()"
   ]
  },
  {
   "cell_type": "markdown",
   "id": "c28de0d6",
   "metadata": {},
   "source": [
    "Question 8:"
   ]
  },
  {
   "cell_type": "code",
   "execution_count": 427,
   "id": "577e3b5e",
   "metadata": {},
   "outputs": [
    {
     "name": "stdout",
     "output_type": "stream",
     "text": [
      "False\n"
     ]
    }
   ],
   "source": [
    "a = sorted([[0,2],[5,10],[15,20]])\n",
    "# b = sorted([[0, 10], [5, 10], [15, 20], [20, 30], [25, 30]])\n",
    "index = []\n",
    "count = 0\n",
    "minn = 0\n",
    "maxx = 60\n",
    "d = []\n",
    "for i in range(len(a)):\n",
    "    if a[i][0] < minn or a[i][1] > maxx:\n",
    "        index.append(i)\n",
    "\n",
    "[a.pop(i)  for i in index]\n",
    "\n",
    "b = a \n",
    "\n",
    "v = []\n",
    "for i in range(len(a)):\n",
    "    for j in range(len(b)):\n",
    "        if (b[j][1] <= a[i][1] and b[j][0] != a[i][0]):\n",
    "            v.append(j)\n",
    "            \n",
    "        if b[j][1] > a[i][1] and b[j][0] >= a[i][1]:\n",
    "            count+=1\n",
    "            \n",
    "    break\n",
    "        \n",
    "if count == len(a):\n",
    "    print(True)\n",
    "else:\n",
    "    print(False)"
   ]
  }
 ],
 "metadata": {
  "kernelspec": {
   "display_name": "Python 3 (ipykernel)",
   "language": "python",
   "name": "python3"
  },
  "language_info": {
   "codemirror_mode": {
    "name": "ipython",
    "version": 3
   },
   "file_extension": ".py",
   "mimetype": "text/x-python",
   "name": "python",
   "nbconvert_exporter": "python",
   "pygments_lexer": "ipython3",
   "version": "3.9.13"
  }
 },
 "nbformat": 4,
 "nbformat_minor": 5
}
