{
 "cells": [
  {
   "cell_type": "markdown",
   "id": "3fa16382",
   "metadata": {},
   "source": [
    "Question 1:"
   ]
  },
  {
   "cell_type": "code",
   "execution_count": 1,
   "id": "883a8062",
   "metadata": {},
   "outputs": [],
   "source": [
    "import numpy as np"
   ]
  },
  {
   "cell_type": "code",
   "execution_count": 2,
   "id": "dd0941cb",
   "metadata": {},
   "outputs": [
    {
     "data": {
      "text/plain": [
       "array([1, 3])"
      ]
     },
     "execution_count": 2,
     "metadata": {},
     "output_type": "execute_result"
    }
   ],
   "source": [
    "import logging \n",
    "import traceback\n",
    "\n",
    "logging.basicConfig(filename=\"log_file.log\",level=logging.INFO,format='%(asctime)s %(levelname)s %(message)s')\n",
    "\n",
    "\n",
    "class sum_of:\n",
    "    \n",
    "    def __init__(self,input_array,target):\n",
    "        \n",
    "        self.input_array = input_array\n",
    "        self.target = target\n",
    "        \n",
    "    def sum_of_input_array(self):\n",
    "        \"\"\"\n",
    "        Returns the indexes of numbers which sums upto target value\n",
    "        \n",
    "        \"\"\"\n",
    "        try:\n",
    "            for i in range (0,len(self.input_array)):\n",
    "                if self.input_array[i] != self.target:\n",
    "                    add = 0\n",
    "                    for j in range (1,len(self.input_array)):\n",
    "                        add = self.input_array[i]+self.input_array[j]\n",
    "                        if add == self.target:\n",
    "                            if i < j:\n",
    "                                return np.array([i,j])\n",
    "\n",
    "                                logging.info('Successfully returned the indexes')\n",
    "                                \n",
    "                        else:\n",
    "                            continue\n",
    "                else:\n",
    "                    return np.array([i])\n",
    "                \n",
    "        except Exception as e:\n",
    "            logging.error(\"Exception occurred\", traceback.format_exc())\n",
    "\n",
    "            \n",
    "inputt = np.array([2,5,8,1])\n",
    "a = sum_of(inputt,6)\n",
    "a.sum_of_input_array()"
   ]
  },
  {
   "cell_type": "markdown",
   "id": "e943166c",
   "metadata": {},
   "source": [
    "Question 2:"
   ]
  },
  {
   "cell_type": "code",
   "execution_count": 3,
   "id": "b037617c",
   "metadata": {},
   "outputs": [
    {
     "data": {
      "text/plain": [
       "array(['4', '6', '5', '2', '3', '_'], dtype='<U11')"
      ]
     },
     "execution_count": 3,
     "metadata": {},
     "output_type": "execute_result"
    }
   ],
   "source": [
    "class removal:\n",
    "    \n",
    "    def __init__(self,input_array,target):\n",
    "        \n",
    "        self.input_array = input_array\n",
    "        self.target = target\n",
    "        \n",
    "    def remove_target(self):\n",
    "        \"\"\"\n",
    "        Returns an array after Replace the target variable with \"_\"\n",
    "        \n",
    "        \"\"\"\n",
    "        try:\n",
    "            inputt = []\n",
    "            for i in self.input_array:\n",
    "                input_array = list(self.input_array)\n",
    "                if i != self.target:\n",
    "                    inputt.append(i)\n",
    "            inputt.append((\"_\"))\n",
    "            \n",
    "            return np.array(inputt)\n",
    "        \n",
    "            logging.info('Successfully returned an array without target variable')\n",
    "            \n",
    "            \n",
    "        except Exception as e:\n",
    "            logging.error(\"Exception occurred\", traceback.format_exc())\n",
    "\n",
    "\n",
    "\n",
    "    \n",
    "a = removal(np.array([4,6,5,7,2,3,7,7,7]),7)\n",
    "a.remove_target()"
   ]
  },
  {
   "cell_type": "markdown",
   "id": "7a69e393",
   "metadata": {},
   "source": [
    "Question 3:"
   ]
  },
  {
   "cell_type": "code",
   "execution_count": 4,
   "id": "1011cdaa",
   "metadata": {},
   "outputs": [
    {
     "data": {
      "text/plain": [
       "3"
      ]
     },
     "execution_count": 4,
     "metadata": {},
     "output_type": "execute_result"
    }
   ],
   "source": [
    "class index:\n",
    "    \n",
    "    def __init__(self,input_array,target):\n",
    "        \n",
    "        self.input_array = input_array\n",
    "        self.target = target\n",
    "        \n",
    "    def index_target(self):\n",
    "        \"\"\"\n",
    "        Return an index of the target variable 'to be' or is positioned\n",
    "        \n",
    "        \"\"\"\n",
    "        try:\n",
    "            for i in range(0,len(self.input_array)):\n",
    "\n",
    "                if self.input_array[i] == self.target:\n",
    "                    return i\n",
    "\n",
    "                if self.target not in self.input_array:\n",
    "\n",
    "                    if self.input_array[i] > self.target:\n",
    "                        if self.input_array[i-1] < self.target:\n",
    "                            return i\n",
    "\n",
    "                    if self.input_array[i] < self.target and i == len(self.input_array) - 1:\n",
    "                        return (i+1)\n",
    "\n",
    "                    elif self.input_array[i] > self.target and i == 0:\n",
    "                        return i \n",
    "                    \n",
    "                logging.info('Successfully returned an index of the target variable')\n",
    "                    \n",
    "        except Exception as e:\n",
    "            logging.error(\"Exception occurred\", traceback.format_exc())\n",
    "\n",
    "\n",
    "            \n",
    "            \n",
    "a = index([1,6,12,22,34],21)\n",
    "a.index_target()"
   ]
  },
  {
   "cell_type": "markdown",
   "id": "083d2aee",
   "metadata": {},
   "source": [
    "Question 4:"
   ]
  },
  {
   "cell_type": "code",
   "execution_count": 5,
   "id": "1148ff5a",
   "metadata": {},
   "outputs": [
    {
     "data": {
      "text/plain": [
       "array([3, 5, 6])"
      ]
     },
     "execution_count": 5,
     "metadata": {},
     "output_type": "execute_result"
    }
   ],
   "source": [
    "class add:\n",
    "    \n",
    "    def __init__(self,input_array):\n",
    "        \n",
    "        self.input_array = input_array\n",
    "        \n",
    "    def add_one (self):\n",
    "        \"\"\"\n",
    "        Returns +1 incremented integer in a list\n",
    "        \n",
    "        \"\"\"\n",
    "        try:\n",
    "            \n",
    "            input_ = list(self.input_array)\n",
    "\n",
    "            if input_[-1] != 0 and input_[-1] + 1 != 10:\n",
    "                index = input_[-1]\n",
    "                del input_[-1]\n",
    "                input_.append(index+1)\n",
    "                return np.array(input_)\n",
    "\n",
    "            else:\n",
    "                return (\"last digit shouldn't be 0\")\n",
    "            \n",
    "            logging.info('Returned the incremented list')\n",
    "                    \n",
    "        except Exception as e:\n",
    "            logging.error(\"Exception occurred\", traceback.format_exc())\n",
    "        \n",
    "        \n",
    "a = np.array([3,5,5])\n",
    "c = add(a)\n",
    "c.add_one()"
   ]
  },
  {
   "cell_type": "markdown",
   "id": "46c729b2",
   "metadata": {},
   "source": [
    "Question 5:"
   ]
  },
  {
   "cell_type": "code",
   "execution_count": 6,
   "id": "ea616115",
   "metadata": {},
   "outputs": [
    {
     "data": {
      "text/plain": [
       "array([1, 2, 2, 3])"
      ]
     },
     "execution_count": 6,
     "metadata": {},
     "output_type": "execute_result"
    }
   ],
   "source": [
    "class arrays:\n",
    "    \n",
    "    def __init__(self,array_1,array_2,m,n):\n",
    "        \n",
    "        self.array_1 = array_1\n",
    "        self.array_2 = array_2\n",
    "        self.m = m\n",
    "        self.n = n\n",
    "        \n",
    "    def append(self):\n",
    "        \"\"\"\n",
    "        Arrays are merged and sorted\n",
    "        \n",
    "        \"\"\"\n",
    "        try:\n",
    "            \n",
    "            _1_array = list(self.array_1)\n",
    "            _2_array = list(self.array_2)\n",
    "\n",
    "            index =  len(_1_array) - len(_2_array)\n",
    "\n",
    "            return np.array(sorted(_1_array[:index] + _2_array))\n",
    "\n",
    "            logging.info('Returned sorted array')\n",
    "\n",
    "        except Exception as e:\n",
    "            logging.error(\"Exception occurred\", traceback.format_exc())\n",
    "     \n",
    "        \n",
    "\n",
    "a = arrays(np.array([1,2,3,0]),np.array([2]),3,3)\n",
    "a.append()"
   ]
  },
  {
   "cell_type": "markdown",
   "id": "e5aa4f4a",
   "metadata": {},
   "source": [
    "Question 6:"
   ]
  },
  {
   "cell_type": "code",
   "execution_count": 7,
   "id": "cd065020",
   "metadata": {},
   "outputs": [
    {
     "data": {
      "text/plain": [
       "True"
      ]
     },
     "execution_count": 7,
     "metadata": {},
     "output_type": "execute_result"
    }
   ],
   "source": [
    "class count:\n",
    "    \n",
    "    def __init__(self,input_array):\n",
    "        \n",
    "        self.input_array = input_array\n",
    "        \n",
    "    def count_int(self):\n",
    "        \"\"\"\n",
    "        Return True or False based on the value occurences\n",
    "        \n",
    "        \"\"\"\n",
    "        \n",
    "        try:\n",
    "            input_ = list(self.input_array)\n",
    "\n",
    "            for i in input_:\n",
    "\n",
    "                count_ = input_.count(i)\n",
    "\n",
    "                if count_ == 2:\n",
    "\n",
    "                    return True\n",
    "\n",
    "                else:\n",
    "\n",
    "                    count_ = 0\n",
    "                    continue\n",
    "\n",
    "            if count_ == 0:\n",
    "\n",
    "                return False\n",
    "            \n",
    "            logging.info('Returned sorted array')\n",
    "\n",
    "        except Exception as e:\n",
    "            logging.error(\"Exception occurred\", traceback.format_exc())\n",
    "            \n",
    "            \n",
    "                          \n",
    "                        \n",
    "a = count(np.array([1,5,5,1]))\n",
    "a.count_int()"
   ]
  },
  {
   "cell_type": "markdown",
   "id": "0df27bbf",
   "metadata": {},
   "source": [
    "Question 7:"
   ]
  },
  {
   "cell_type": "code",
   "execution_count": 8,
   "id": "900b5ec4",
   "metadata": {},
   "outputs": [
    {
     "data": {
      "text/plain": [
       "array([ 1,  4,  5,  5, 12,  4,  0,  0,  0,  0])"
      ]
     },
     "execution_count": 8,
     "metadata": {},
     "output_type": "execute_result"
    }
   ],
   "source": [
    "class arr:\n",
    "    \n",
    "    def __init__(self,input_array):\n",
    "        \n",
    "        self.input_array = input_array\n",
    "        \n",
    "    def Zero(self):\n",
    "        \"\"\"\n",
    "        Return an array consisting of 0's at the end\n",
    "        \n",
    "        \"\"\"\n",
    "        try:\n",
    "            count = 0\n",
    "\n",
    "            for i in range(len(self.input_array)):\n",
    "                if self.input_array[i] != 0:\n",
    "                    self.input_array[count],self.input_array[i] = self.input_array[i] , self.input_array[count]\n",
    "                    count += 1\n",
    "\n",
    "            return self.input_array\n",
    "\n",
    "            logging.info('Returned an assorted array of 0\"s at the end')\n",
    "\n",
    "        except Exception as e:\n",
    "            logging.error(\"Exception occurred\", traceback.format_exc())\n",
    "            \n",
    "            \n",
    "a = arr(np.array([1,0,4,0,5,5,0,0,12,4]))\n",
    "a.Zero()"
   ]
  },
  {
   "cell_type": "markdown",
   "id": "4845fd46",
   "metadata": {},
   "source": [
    "Question 8:"
   ]
  },
  {
   "cell_type": "code",
   "execution_count": 9,
   "id": "b2aa7b52",
   "metadata": {},
   "outputs": [
    {
     "data": {
      "text/plain": [
       "array([2, 4, 7, 8])"
      ]
     },
     "execution_count": 9,
     "metadata": {},
     "output_type": "execute_result"
    }
   ],
   "source": [
    "class missing:\n",
    "    \n",
    "    def __init__(self,input_array):\n",
    "        \n",
    "        self.input_array = input_array\n",
    "        \n",
    "    def repeat_miss(self):\n",
    "        \"\"\"\n",
    "        Returns an array with the repititive number and the missing value.\n",
    "        \n",
    "        \"\"\"\n",
    "        try:\n",
    "            \n",
    "            input_ = self.input_array\n",
    "\n",
    "            rang = np.arange(input_[0],input_[len(input_)-1]+1)\n",
    "\n",
    "            output = []\n",
    "\n",
    "            for i in range(len(input_)):\n",
    "\n",
    "                count = list(input_).count(input_[i])\n",
    "\n",
    "                if count == 2:\n",
    "                    if input_[i] not in output:\n",
    "                        output.append(input_[i])\n",
    "\n",
    "                if rang[i] not in input_:\n",
    "                    output.append(rang[i])\n",
    "\n",
    "            return (np.array(output))\n",
    "            logging.info('Returned an array with the repititive number and the missing value.')\n",
    "\n",
    "        except Exception as e:\n",
    "            logging.error(\"Exception occurred\", traceback.format_exc())\n",
    "    \n",
    "    \n",
    "a = missing(np.array([1,2,2,3,4,4,5,6,9]))\n",
    "a.repeat_miss()"
   ]
  }
 ],
 "metadata": {
  "kernelspec": {
   "display_name": "Python 3 (ipykernel)",
   "language": "python",
   "name": "python3"
  },
  "language_info": {
   "codemirror_mode": {
    "name": "ipython",
    "version": 3
   },
   "file_extension": ".py",
   "mimetype": "text/x-python",
   "name": "python",
   "nbconvert_exporter": "python",
   "pygments_lexer": "ipython3",
   "version": "3.9.13"
  }
 },
 "nbformat": 4,
 "nbformat_minor": 5
}
