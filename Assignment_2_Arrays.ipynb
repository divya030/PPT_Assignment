{
 "cells": [
  {
   "cell_type": "markdown",
   "id": "09c18b51",
   "metadata": {},
   "source": [
    "Question 1:"
   ]
  },
  {
   "cell_type": "code",
   "execution_count": 1,
   "id": "3aa66119",
   "metadata": {},
   "outputs": [],
   "source": [
    "import numpy as np"
   ]
  },
  {
   "cell_type": "code",
   "execution_count": 2,
   "id": "eb20e029",
   "metadata": {},
   "outputs": [
    {
     "data": {
      "text/plain": [
       "4"
      ]
     },
     "execution_count": 2,
     "metadata": {},
     "output_type": "execute_result"
    }
   ],
   "source": [
    "import logging \n",
    "import traceback\n",
    "\n",
    "logging.basicConfig(filename=\"log_file.log\",level=logging.INFO,format='%(asctime)s %(levelname)s %(message)s')\n",
    "\n",
    "\n",
    "class pair:\n",
    "    \n",
    "    def __init__(self,input_array):\n",
    "        \n",
    "        self.input_array = input_array\n",
    "        \n",
    "    def pair_sum(self):\n",
    "        \"\"\"\n",
    "        Returns the maximised sum of paired arrays\n",
    "        \n",
    "        \"\"\"\n",
    "        \n",
    "        try:\n",
    "        \n",
    "            x = []\n",
    "\n",
    "            for  i in range (1,len(self.input_array)):\n",
    "                arr = list(self.input_array)\n",
    "                min_0 = (min([arr[0],arr[i]]))\n",
    "                arr.remove(arr[i])\n",
    "                min_1 = (min(arr[1:]))\n",
    "                x.append(sum([min_0,min_1]))\n",
    "            \n",
    "            logging.info('Successfully maximun sumamtion of pair arrays')\n",
    "\n",
    "            return max(x)\n",
    "                \n",
    "        except Exception as e:\n",
    "            logging.error(\"Exception occurred\", traceback.format_exc())\n",
    "\n",
    "            \n",
    "a = pair(np.array([1,4,3,2]))\n",
    "a.pair_sum()"
   ]
  },
  {
   "cell_type": "markdown",
   "id": "bf4c11b3",
   "metadata": {},
   "source": [
    "Question 2:"
   ]
  },
  {
   "cell_type": "code",
   "execution_count": 3,
   "id": "712411b3",
   "metadata": {},
   "outputs": [
    {
     "data": {
      "text/plain": [
       "6"
      ]
     },
     "execution_count": 3,
     "metadata": {},
     "output_type": "execute_result"
    }
   ],
   "source": [
    "class n_candies:\n",
    "    \n",
    "    def __init__(self,input_array):\n",
    "        \n",
    "        self.input_array = input_array\n",
    "        \n",
    "    def candy(self):\n",
    "        \"\"\" \n",
    "        Returns the maximum number of different types of candies\n",
    "        \n",
    "        \"\"\"\n",
    "        \n",
    "        try:\n",
    "            unique = np.unique(self.input_array)\n",
    "            y = len(self.input_array)//2\n",
    "            \n",
    "            logging.info('Successfully Returned the maximum number of different types of candies')\n",
    "            \n",
    "            return y\n",
    "\n",
    "            \n",
    "\n",
    "        except Exception as e:\n",
    "            logging.error(\"Exception occurred\", traceback.format_exc())\n",
    "    \n",
    "    \n",
    "a = n_candies([1,1,2,2,8,3,4,7,4,5,5,6])\n",
    "a.candy()"
   ]
  },
  {
   "cell_type": "markdown",
   "id": "e03a06e3",
   "metadata": {},
   "source": [
    "Question 3:"
   ]
  },
  {
   "cell_type": "code",
   "execution_count": 4,
   "id": "a24d5728",
   "metadata": {},
   "outputs": [
    {
     "data": {
      "text/plain": [
       "5"
      ]
     },
     "execution_count": 4,
     "metadata": {},
     "output_type": "execute_result"
    }
   ],
   "source": [
    "class sequence:\n",
    "    \n",
    "    def __init__(self,input_array):\n",
    "        \n",
    "        self.input_array = input_array\n",
    "        \n",
    "    def harmonious(self):\n",
    "        try:\n",
    "        \n",
    "            ref = list(self.input_array)\n",
    "            length = []\n",
    "\n",
    "            for i in range(len(self.input_array)):\n",
    "                array = []\n",
    "                for j in range(len(ref)):\n",
    "                    condition = [-1,0,1]\n",
    "                    diff = self.input_array[i] - ref[j]\n",
    "                    if diff in condition:\n",
    "                        array = array + [ref[j]]\n",
    "\n",
    "                ref = ref[i:]\n",
    "                length.append(len(array))\n",
    "                \n",
    "            logging.info('Successfully returned the length of harmonious subsequence')\n",
    "\n",
    "            return (max(length))\n",
    "            \n",
    "\n",
    "        except Exception as e:\n",
    "            logging.error(\"Exception occurred\", traceback.format_exc())\n",
    "            \n",
    "            \n",
    "a = [1,3,2,2,5,2,3,7]\n",
    "x = sequence(np.array(a))\n",
    "x.harmonious()"
   ]
  },
  {
   "cell_type": "markdown",
   "id": "b8b0179a",
   "metadata": {},
   "source": [
    "Question 4:"
   ]
  },
  {
   "cell_type": "code",
   "execution_count": 121,
   "id": "b37a3d1f",
   "metadata": {},
   "outputs": [
    {
     "data": {
      "text/plain": [
       "True"
      ]
     },
     "execution_count": 121,
     "metadata": {},
     "output_type": "execute_result"
    }
   ],
   "source": [
    "class flowerbed:\n",
    "    \n",
    "    def __init__(self,input_array,target):\n",
    "        \n",
    "        self.input_array = input_array\n",
    "        self.target = target\n",
    "        \n",
    "    def no_adjacent_flowers(self):\n",
    "        \n",
    "        \"\"\"\n",
    "        Returns whether flowers can be planted or not by the given condition\n",
    "        \n",
    "        \"\"\"\n",
    "        try:\n",
    "            count = []\n",
    "\n",
    "            condition = [0,0,0]\n",
    "            \n",
    "            for i in range(len(self.input_array)-2):\n",
    "                if [self.input_array[i],self.input_array[i+1],self.input_array[i+2]] == condition:\n",
    "                    if i not in count:\n",
    "                        count.append(i+1)\n",
    "                        \n",
    "                if self.input_array[i] == 0 and i == 0:\n",
    "                    if self.input_array[1] == 0 and self.input_array[2] == 1:\n",
    "                        count.append(i)\n",
    "\n",
    "            if len(count) >= self.target:\n",
    "                return (True)\n",
    "\n",
    "            else:\n",
    "                return (False)\n",
    "\n",
    "            logging.info('Returns True if flowers can be planted or ortherwise')\n",
    "            \n",
    "        except Exception as e:\n",
    "            logging.error(\"Exception occurred\", traceback.format_exc())\n",
    "        \n",
    "        \n",
    "\n",
    "        \n",
    "a = flowerbed(np.array([1,0,0,0,1]),1)\n",
    "a.no_adjacent_flowers()"
   ]
  },
  {
   "cell_type": "markdown",
   "id": "4648e93d",
   "metadata": {},
   "source": [
    "Question 5:"
   ]
  },
  {
   "cell_type": "code",
   "execution_count": 139,
   "id": "bbd4e048",
   "metadata": {},
   "outputs": [
    {
     "data": {
      "text/plain": [
       "6"
      ]
     },
     "execution_count": 139,
     "metadata": {},
     "output_type": "execute_result"
    }
   ],
   "source": [
    "class maxx:\n",
    "    \n",
    "    def __init__(self,input_array):\n",
    "        \n",
    "        self.input_array = input_array\n",
    "        \n",
    "    def product(self):\n",
    "        \"\"\"\n",
    "        Returns maximum product of an arrray\n",
    "        \n",
    "        \"\"\"\n",
    "        \n",
    "        try:\n",
    "        \n",
    "            input_array = sorted(self.input_array)\n",
    "\n",
    "            return (input_array[-1]*input_array[-2]*input_array[-3])\n",
    "        \n",
    "            logging.info('Returns maximum product of an arrray')\n",
    "            \n",
    "        except Exception as e:\n",
    "            logging.error(\"Exception occurred\", traceback.format_exc())\n",
    "            \n",
    "        \n",
    "a = maxx(np.array([1,2,3]))\n",
    "a.product()"
   ]
  },
  {
   "cell_type": "markdown",
   "id": "356ef239",
   "metadata": {},
   "source": [
    "Question 6:"
   ]
  },
  {
   "cell_type": "code",
   "execution_count": 149,
   "id": "2f30fd6e",
   "metadata": {},
   "outputs": [
    {
     "data": {
      "text/plain": [
       "4"
      ]
     },
     "execution_count": 149,
     "metadata": {},
     "output_type": "execute_result"
    }
   ],
   "source": [
    "class index:\n",
    "    \n",
    "    def __init__(self,input_array,target):\n",
    "        \n",
    "        self.input_array = input_array\n",
    "        self.target = target\n",
    "        \n",
    "    def find(self):\n",
    "        \"\"\"\n",
    "        Return index of the target variable\n",
    "        \n",
    "        \"\"\"\n",
    "        try:\n",
    "        \n",
    "            for i in range(len(self.input_array)):\n",
    "                if self.input_array[i] == self.target:\n",
    "                    return i\n",
    "\n",
    "            else:\n",
    "                return -1\n",
    "        \n",
    "            logging.info('Return index of the target variable')\n",
    "            \n",
    "        except Exception as e:\n",
    "            logging.error(\"Exception occurred\", traceback.format_exc())\n",
    "            \n",
    "        \n",
    "        \n",
    "\n",
    "a = index(np.array([-1,0,3,5,9,12]),9)\n",
    "a.find()"
   ]
  },
  {
   "cell_type": "markdown",
   "id": "8e6e493b",
   "metadata": {},
   "source": [
    "Question 7:"
   ]
  },
  {
   "cell_type": "code",
   "execution_count": 163,
   "id": "58473db9",
   "metadata": {},
   "outputs": [
    {
     "data": {
      "text/plain": [
       "True"
      ]
     },
     "execution_count": 163,
     "metadata": {},
     "output_type": "execute_result"
    }
   ],
   "source": [
    "class monotnic:\n",
    "    def __init__(self,input_array):\n",
    "        \n",
    "        self.input_array = input_array\n",
    "        \n",
    "    def find(self):\n",
    "        \"\"\" \n",
    "        Return True if an array is monotonic\n",
    "        \n",
    "        \"\"\"\n",
    "        try:\n",
    "        \n",
    "            for i in range(len(self.input_array)-1):\n",
    "                if abs(self.input_array[i] - self.input_array[i+1]) in [0,1]:\n",
    "                    continue\n",
    "                else:\n",
    "                    return False\n",
    "            return True\n",
    "        \n",
    "            logging.info('Return True if an array is monotonic')\n",
    "            \n",
    "        except Exception as e:\n",
    "            logging.error(\"Exception occurred\", traceback.format_exc())\n",
    "    \n",
    "a = monotnic(np.array([1,2,2,3,4]))\n",
    "a.find()"
   ]
  },
  {
   "cell_type": "markdown",
   "id": "18123806",
   "metadata": {},
   "source": [
    "Question 8:"
   ]
  },
  {
   "cell_type": "code",
   "execution_count": 193,
   "id": "67b4ed97",
   "metadata": {},
   "outputs": [
    {
     "data": {
      "text/plain": [
       "0"
      ]
     },
     "execution_count": 193,
     "metadata": {},
     "output_type": "execute_result"
    }
   ],
   "source": [
    "class opr:\n",
    "    \n",
    "    def __init__(self,input_array,x):\n",
    "        \n",
    "        self.input_array = input_array\n",
    "        self.x = x\n",
    "        \n",
    "    def add(self):\n",
    "        \"\"\"\n",
    "        Return min score of an array\n",
    "        \n",
    "        \"\"\"\n",
    "        try:\n",
    "            \n",
    "            rang = np.arange(-self.x,self.x)\n",
    "            out = []\n",
    "            for i in self.input_array:\n",
    "                out.append(i+self.x)\n",
    "            return max(out)-min(out)\n",
    "        \n",
    "            logging.info('Return min score of an array')\n",
    "            \n",
    "        except Exception as e:\n",
    "            logging.error(\"Exception occurred\", traceback.format_exc())\n",
    "    \n",
    "        \n",
    "\n",
    "\n",
    "a = opr(np.array([1]),0)\n",
    "a.add()"
   ]
  }
 ],
 "metadata": {
  "kernelspec": {
   "display_name": "Python 3 (ipykernel)",
   "language": "python",
   "name": "python3"
  },
  "language_info": {
   "codemirror_mode": {
    "name": "ipython",
    "version": 3
   },
   "file_extension": ".py",
   "mimetype": "text/x-python",
   "name": "python",
   "nbconvert_exporter": "python",
   "pygments_lexer": "ipython3",
   "version": "3.9.13"
  }
 },
 "nbformat": 4,
 "nbformat_minor": 5
}
