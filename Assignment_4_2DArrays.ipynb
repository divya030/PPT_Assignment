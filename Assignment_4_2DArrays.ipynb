{
 "cells": [
  {
   "cell_type": "code",
   "execution_count": 6,
   "id": "2fcdc158",
   "metadata": {},
   "outputs": [],
   "source": [
    "import numpy as np"
   ]
  },
  {
   "cell_type": "code",
   "execution_count": 9,
   "id": "2e37f5a5",
   "metadata": {},
   "outputs": [],
   "source": [
    "import logging \n",
    "import traceback\n",
    "import numpy as np \n",
    "\n",
    "logging.basicConfig(filename=\"log_file.log\",level=logging.INFO,format='%(asctime)s %(levelname)s %(message)s')"
   ]
  },
  {
   "cell_type": "markdown",
   "id": "b363b0ee",
   "metadata": {},
   "source": [
    "Question 1:"
   ]
  },
  {
   "cell_type": "code",
   "execution_count": 10,
   "id": "a03a46cd",
   "metadata": {},
   "outputs": [
    {
     "data": {
      "text/plain": [
       "[1, 5]"
      ]
     },
     "execution_count": 10,
     "metadata": {},
     "output_type": "execute_result"
    }
   ],
   "source": [
    "class inclusive:\n",
    "    \n",
    "    def __init__(self,arr1,arr2,arr3):\n",
    "        \n",
    "        self.arr1 = arr1\n",
    "        self.arr2 = arr2\n",
    "        self.arr3 = arr3\n",
    "        \n",
    "    def array(self):\n",
    "        \"\"\"\n",
    "        Returs integers appeared in all 3 arrays\n",
    "        \n",
    "        \"\"\"\n",
    "        try:\n",
    "            \n",
    "            inclusive_array = []\n",
    "\n",
    "            for i in self.arr1:\n",
    "                if i in self.arr2 and i in self.arr3:\n",
    "                    inclusive_array.append(i)\n",
    "\n",
    "            return inclusive_array\n",
    "\n",
    "            logging.info('Successfully returned integers appeared in all 3 arrays')\n",
    "\n",
    "        except Exception as e:\n",
    "            logging.error(\"Exception occurred\", traceback.format_exc())\n",
    "\n",
    "    \n",
    "    \n",
    "    \n",
    "a =  np.array([1,2,3,4,5])\n",
    "b = np.array([1,2,5,7,9])\n",
    "c = np.array([1,3,4,5,8])\n",
    "\n",
    "x = inclusive(a,c,b)\n",
    "x.array()"
   ]
  },
  {
   "cell_type": "markdown",
   "id": "db69c6d2",
   "metadata": {},
   "source": [
    "Question 2:"
   ]
  },
  {
   "cell_type": "code",
   "execution_count": 11,
   "id": "f653f5ca",
   "metadata": {},
   "outputs": [
    {
     "data": {
      "text/plain": [
       "[[1, 3], [4, 6]]"
      ]
     },
     "execution_count": 11,
     "metadata": {},
     "output_type": "execute_result"
    }
   ],
   "source": [
    "class distinct:\n",
    "    \n",
    "    def __init__(self,_1_array,_2_array):\n",
    "        self._1_array = _1_array\n",
    "        self._2_array = _2_array\n",
    "                 \n",
    "    def array (self):\n",
    "        \"\"\"\n",
    "        Returns distinct nums of both array\n",
    "        \n",
    "        \"\"\"\n",
    "        try:\n",
    "            \n",
    "            a1 = set (self._1_array)\n",
    "            a2 = set (self._2_array)\n",
    "\n",
    "            x1 = a1.copy()\n",
    "\n",
    "            distinct_list = []\n",
    "\n",
    "            for i in a1:\n",
    "                if i in a2:\n",
    "                    a2.remove(i)\n",
    "                    x1.remove(i)\n",
    "\n",
    "            distinct_list = [list(x1)] + [list(a2)]\n",
    "            \n",
    "            return distinct_list\n",
    "        \n",
    "            logging.info('Returned distinct nums of both array')\n",
    "            \n",
    "        except Exception as e:\n",
    "            logging.error(\"Exception occurred\", traceback.format_exc())\n",
    "        \n",
    "    \n",
    "    \n",
    "a = distinct(np.array([1,2,3]),np.array([2,4,6]))\n",
    "a.array()"
   ]
  },
  {
   "cell_type": "markdown",
   "id": "28618ac8",
   "metadata": {},
   "source": [
    "Question 3:"
   ]
  },
  {
   "cell_type": "code",
   "execution_count": 48,
   "id": "10dfcd01",
   "metadata": {},
   "outputs": [
    {
     "data": {
      "text/plain": [
       "array([[1, 4, 7],\n",
       "       [2, 5, 8],\n",
       "       [3, 6, 9]])"
      ]
     },
     "execution_count": 48,
     "metadata": {},
     "output_type": "execute_result"
    }
   ],
   "source": [
    "class array:\n",
    "    \n",
    "    def __init__(self,input_array):\n",
    "        \n",
    "        self.input_array = input_array\n",
    "        \n",
    "    def transpose(self):\n",
    "        \n",
    "        \"\"\" Returns Transpose of given array \"\"\"\n",
    "        \n",
    "        try:\n",
    "            zeros = np.zeros(self.input_array.shape, dtype = int)\n",
    "\n",
    "            for i in range(len(self.input_array)):\n",
    "                for j in range(len(self.input_array[i])):\n",
    "                    zeros[i][j] = self.input_array[j][i]\n",
    "\n",
    "            array = np.array(zeros)\n",
    "            return array\n",
    "        \n",
    "            logging.info('Returned Transpose of given array')\n",
    "            \n",
    "        except Exception as e:\n",
    "            logging.error(\"Exception occurred\", traceback.format_exc())\n",
    "    \n",
    "    \n",
    "a = array(np.array([[1,2,3],[4,5,6],[7,8,9]]))\n",
    "a.transpose()"
   ]
  },
  {
   "cell_type": "markdown",
   "id": "b0115212",
   "metadata": {},
   "source": [
    "Question 5:"
   ]
  },
  {
   "cell_type": "code",
   "execution_count": 264,
   "id": "147b1a4d",
   "metadata": {},
   "outputs": [
    {
     "data": {
      "text/plain": [
       "2"
      ]
     },
     "execution_count": 264,
     "metadata": {},
     "output_type": "execute_result"
    }
   ],
   "source": [
    "class coins:\n",
    "    \n",
    "    def __init__(self,input_array):\n",
    "        self.input_array = input_array\n",
    "                 \n",
    "    def rows (self):\n",
    "        \"\"\"\n",
    "        Returns the completed rowes of coins\n",
    "        \n",
    "        \"\"\"\n",
    "        try:\n",
    "            summ = 0\n",
    "            v = []\n",
    "\n",
    "            for i in range(1,(self.input_array-1)):\n",
    "                summ += i\n",
    "                if summ < self.input_array:\n",
    "                    v.append(i)\n",
    "                elif summ == self.input_array:\n",
    "                    v.append(i)\n",
    "\n",
    "            return (max(v))\n",
    "        \n",
    "            logging.info('Returned the completed rowes of coins')\n",
    "            \n",
    "        except Exception as e:\n",
    "            logging.error(\"Exception occurred\", traceback.format_exc())\n",
    "                 \n",
    "        \n",
    "a = coins(5)\n",
    "a.rows()"
   ]
  },
  {
   "cell_type": "markdown",
   "id": "96c70699",
   "metadata": {},
   "source": [
    "Question 6:"
   ]
  },
  {
   "cell_type": "code",
   "execution_count": 265,
   "id": "b72b4ac2",
   "metadata": {},
   "outputs": [
    {
     "data": {
      "text/plain": [
       "[0, 1, 9, 16, 100]"
      ]
     },
     "execution_count": 265,
     "metadata": {},
     "output_type": "execute_result"
    }
   ],
   "source": [
    "class arr:\n",
    "    \n",
    "    def __init__(self,input_array):\n",
    "        self.input_array = input_array\n",
    "                 \n",
    "    def asscending (self):\n",
    "        \"\"\"\n",
    "        Returns squared of elements in a non decreasing oreder\n",
    "        \n",
    "        \"\"\"\n",
    "        try:\n",
    "            squared = []\n",
    "\n",
    "            for i in self.input_array:\n",
    "                squared.append(i*i)\n",
    "\n",
    "            return (sorted(squared))\n",
    "            \n",
    "            logging.info('Returns squared of elements in a non decreasing oreder')\n",
    "            \n",
    "        except Exception as e:\n",
    "            logging.error(\"Exception occurred\", traceback.format_exc())\n",
    "        \n",
    "    \n",
    "a = arr(np.array([-4,-1,0,3,10]))\n",
    "a.asscending()"
   ]
  },
  {
   "cell_type": "markdown",
   "id": "a0d95779",
   "metadata": {},
   "source": [
    "Question 7:"
   ]
  },
  {
   "cell_type": "code",
   "execution_count": 290,
   "id": "8640bfd8",
   "metadata": {},
   "outputs": [
    {
     "data": {
      "text/plain": [
       "4"
      ]
     },
     "execution_count": 290,
     "metadata": {},
     "output_type": "execute_result"
    }
   ],
   "source": [
    "class matrix:\n",
    "    def __init__(self,m,n,ops):\n",
    "        self.m = m\n",
    "        self.n = n\n",
    "        self.ops = ops\n",
    "        \n",
    "    def maxx(self):\n",
    "        \"\"\"\n",
    "        Returns the number of maximum integers in the matrix\n",
    "        \n",
    "        \"\"\"\n",
    "        try:\n",
    "            if len(self.ops) == 0:\n",
    "                return self.m * self.n\n",
    "\n",
    "            result = [self.ops[0][0],self.ops[0][1]]\n",
    "            for i in range(1,len(self.ops)):\n",
    "                result[0] = min(result[0] , ops[i][0])\n",
    "                result[1] = min(result[1] , ops[i][1])\n",
    "            return result[0]*result[1] \n",
    "            \n",
    "            logging.info('Returns the number of maximum integers in the matrix')\n",
    "            \n",
    "        except Exception as e:\n",
    "            logging.error(\"Exception occurred\", traceback.format_exc())\n",
    "            \n",
    "a = matrix(3,3, [[2,2],[3,3]])\n",
    "a.maxx()"
   ]
  },
  {
   "cell_type": "markdown",
   "id": "054b6581",
   "metadata": {},
   "source": [
    "Question 8:"
   ]
  },
  {
   "cell_type": "code",
   "execution_count": 310,
   "id": "a58b8f96",
   "metadata": {},
   "outputs": [
    {
     "data": {
      "text/plain": [
       "[2, 3, 5, 4, 1, 7]"
      ]
     },
     "execution_count": 310,
     "metadata": {},
     "output_type": "execute_result"
    }
   ],
   "source": [
    "class arr:\n",
    "    \n",
    "    def __init__(self,input_array, n ):\n",
    "        self.input_array = input_array\n",
    "        self.n = n\n",
    "        \n",
    "    def inter_change (self):\n",
    "        \n",
    "        ans = []\n",
    "        x = self.input_array[ : self.n]\n",
    "        y = self.input_array[self.n : ]\n",
    "        \n",
    "        for i in range(self.n):\n",
    "            ans = ans + [x[i],y[i]]\n",
    "            \n",
    "        return ans\n",
    "    \n",
    "a = arr(np.array([2,5,1,3,4,7]),3)\n",
    "a.inter_change()"
   ]
  }
 ],
 "metadata": {
  "kernelspec": {
   "display_name": "Python 3 (ipykernel)",
   "language": "python",
   "name": "python3"
  },
  "language_info": {
   "codemirror_mode": {
    "name": "ipython",
    "version": 3
   },
   "file_extension": ".py",
   "mimetype": "text/x-python",
   "name": "python",
   "nbconvert_exporter": "python",
   "pygments_lexer": "ipython3",
   "version": "3.9.13"
  }
 },
 "nbformat": 4,
 "nbformat_minor": 5
}
