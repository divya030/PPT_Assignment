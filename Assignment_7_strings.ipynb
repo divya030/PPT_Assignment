{
 "cells": [
  {
   "cell_type": "code",
   "execution_count": 15,
   "id": "2ef8db01",
   "metadata": {},
   "outputs": [],
   "source": [
    "import logging \n",
    "import traceback\n",
    "import numpy as np \n",
    "\n",
    "logging.basicConfig(filename=\"log_file.log\",level=logging.INFO,format='%(asctime)s %(levelname)s %(message)s')"
   ]
  },
  {
   "cell_type": "markdown",
   "id": "1a866ae1",
   "metadata": {},
   "source": [
    "Question 1:"
   ]
  },
  {
   "cell_type": "code",
   "execution_count": 20,
   "id": "b0b79a70",
   "metadata": {},
   "outputs": [
    {
     "data": {
      "text/plain": [
       "'isomorphic String'"
      ]
     },
     "execution_count": 20,
     "metadata": {},
     "output_type": "execute_result"
    }
   ],
   "source": [
    "class iso:\n",
    "    \n",
    "    def __init__(self,s1,s2):\n",
    "        \n",
    "        self.s1 = s1\n",
    "        self.s2 = s2\n",
    "        \n",
    "    def replace(self):\n",
    "        \"\"\"\n",
    "        Determine the string is isometric or not\n",
    "        \n",
    "        \"\"\"\n",
    "        try:\n",
    "            if len(self.s1) == len(self.s2):\n",
    "                for i in range(len(self.s1)):\n",
    "                    self.s1 = self.s1.replace(self.s1[i],self.s2[i])\n",
    "\n",
    "            if self.s1 == self.s2:\n",
    "                return 'isomorphic String'\n",
    "\n",
    "            else:\n",
    "                return 'Not an isomorphic String'\n",
    "            \n",
    "            logging.info('Successfully returned the string is isometric or not')\n",
    "                \n",
    "        except Exception as e:\n",
    "            logging.error(\"Exception occurred\", traceback.format_exc())\n",
    "        \n",
    "        \n",
    "a = iso(s1 ='egg', s2 = 'add' )\n",
    "a.replace()"
   ]
  },
  {
   "cell_type": "markdown",
   "id": "a1fa9b52",
   "metadata": {},
   "source": [
    "Question 3:"
   ]
  },
  {
   "cell_type": "code",
   "execution_count": 26,
   "id": "eeec00ea",
   "metadata": {},
   "outputs": [
    {
     "data": {
      "text/plain": [
       "'134'"
      ]
     },
     "execution_count": 26,
     "metadata": {},
     "output_type": "execute_result"
    }
   ],
   "source": [
    "class summ:\n",
    "    \n",
    "    def __init__(self,num1,num2):\n",
    "        \n",
    "        self.num1 = num1\n",
    "        self.num2 = num2\n",
    "        \n",
    "    def int_summ(self):\n",
    "        \"\"\"\n",
    "        Return the sum of numbers in string\n",
    "        \n",
    "        \"\"\"\n",
    "        try:\n",
    "            self.num1 = int(self.num1)\n",
    "            self.num2 = int(self.num2)\n",
    "\n",
    "            summ = str(self.num1+self.num2)\n",
    "            return summ\n",
    "        \n",
    "            logging.info('Successfully returned the sum of numbers in string')\n",
    "                \n",
    "        except Exception as e:\n",
    "            logging.error(\"Exception occurred\", traceback.format_exc())\n",
    "            \n",
    "            \n",
    "a = summ(num1 = '11',num2 = '123')\n",
    "a.int_summ()"
   ]
  },
  {
   "cell_type": "markdown",
   "id": "64c967be",
   "metadata": {},
   "source": [
    "Question 2:"
   ]
  },
  {
   "cell_type": "code",
   "execution_count": 132,
   "id": "24982912",
   "metadata": {},
   "outputs": [
    {
     "data": {
      "text/plain": [
       "True"
      ]
     },
     "execution_count": 132,
     "metadata": {},
     "output_type": "execute_result"
    }
   ],
   "source": [
    "class strobogrammatic:\n",
    "    \n",
    "    def __init__(self,num):\n",
    "        self.num = num\n",
    "        \n",
    "    def is_or_not(self):\n",
    "        \"\"\"\n",
    "        Determine the number is strobogrammatic or not\n",
    "        \n",
    "        \"\"\"\n",
    "        self.num = str(self.num)\n",
    "        num1 = []\n",
    "        \n",
    "        try:\n",
    "            \n",
    "            for i in self.num:\n",
    "                if (i) in ['0','1','6','8','9']:\n",
    "\n",
    "                    if (i) == '0' or (i) == '1' or (i) == '8':\n",
    "                        num1.append(i)\n",
    "\n",
    "                    elif (i) == '6':\n",
    "                        num1.append('9')\n",
    "\n",
    "                    elif (i) == '9':\n",
    "                        num1.append('6')\n",
    "\n",
    "            self.num = list(self.num)\n",
    "            num1.reverse()\n",
    "\n",
    "            if num1 == self.num:\n",
    "                return True\n",
    "            else:\n",
    "                return False\n",
    "            \n",
    "            logging.info('Successfully returned the number is strobogrammatic or not')\n",
    "                \n",
    "        except Exception as e:\n",
    "            logging.error(\"Exception occurred\", traceback.format_exc())\n",
    "            \n",
    "    \n",
    "a = strobogrammatic(69)\n",
    "a.is_or_not()"
   ]
  },
  {
   "cell_type": "markdown",
   "id": "79873e91",
   "metadata": {},
   "source": [
    "Question 4:"
   ]
  },
  {
   "cell_type": "code",
   "execution_count": 352,
   "id": "0c574630",
   "metadata": {},
   "outputs": [
    {
     "data": {
      "text/plain": [
       "\"s'teL ekat edoCteeL tsetnoc\""
      ]
     },
     "execution_count": 352,
     "metadata": {},
     "output_type": "execute_result"
    }
   ],
   "source": [
    "class reverse:\n",
    "    \n",
    "    def __init__(self,string):\n",
    "        self.string = string\n",
    "        \n",
    "    def rev(self):\n",
    "        \"\"\"\n",
    "        Reverse the order of characters in each word.\n",
    "        \n",
    "        \"\"\"\n",
    "        try:\n",
    "            string = self.string.split(\" \")\n",
    "            reverse = \"\"\n",
    "\n",
    "            for i in range (len(string)):\n",
    "\n",
    "                if i == 0:\n",
    "                    reverse = reverse + string[i][::-1]\n",
    "                else:\n",
    "                    reverse = reverse + \" \"+string[i][::-1]\n",
    "\n",
    "            return reverse\n",
    "\n",
    "            logging.info('Successfully returned the Reversed order of characters in each word')\n",
    "\n",
    "        except Exception as e:\n",
    "            logging.error(\"Exception occurred\", traceback.format_exc())\n",
    "\n",
    "a = reverse(\"Let's take LeetCode contest\")\n",
    "a.rev()"
   ]
  },
  {
   "cell_type": "markdown",
   "id": "9eaca10b",
   "metadata": {},
   "source": [
    "Question 6:"
   ]
  },
  {
   "cell_type": "code",
   "execution_count": 438,
   "id": "15aaf1c2",
   "metadata": {},
   "outputs": [
    {
     "data": {
      "text/plain": [
       "True"
      ]
     },
     "execution_count": 438,
     "metadata": {},
     "output_type": "execute_result"
    }
   ],
   "source": [
    "class shift:\n",
    "    \n",
    "    def __init__(self,string,goal):\n",
    "        \n",
    "        self.string = string\n",
    "        self.goal = goal\n",
    "        \n",
    "    def in_not(self):\n",
    "        \"\"\"\n",
    "        Return true if the given string can become the expected string or False\n",
    "        \n",
    "        \"\"\"\n",
    "        try:\n",
    "        \n",
    "            for i in range(len(self.string)):\n",
    "                self.string = self.string[1] + self.string[2:] + self.string[0]\n",
    "\n",
    "                if self.string == self.goal:\n",
    "                    return True\n",
    "                else:\n",
    "                    continue\n",
    "\n",
    "            return False\n",
    "\n",
    "            logging.info('Successfully returned true if the given string can become the expected string or False')\n",
    "                \n",
    "        except Exception as e:\n",
    "            logging.error(\"Exception occurred\", traceback.format_exc())\n",
    "    \n",
    "a = shift(string = 'abcde',goal = 'cdeab')\n",
    "a.in_not()"
   ]
  },
  {
   "cell_type": "markdown",
   "id": "20e04314",
   "metadata": {},
   "source": [
    "Question 5:"
   ]
  },
  {
   "cell_type": "code",
   "execution_count": 361,
   "id": "9a452d52",
   "metadata": {},
   "outputs": [
    {
     "data": {
      "text/plain": [
       "'bacdfeg'"
      ]
     },
     "execution_count": 361,
     "metadata": {},
     "output_type": "execute_result"
    }
   ],
   "source": [
    "class k_shift:\n",
    "    \n",
    "    def __init__(self,string,k):\n",
    "        \n",
    "        self.string = string\n",
    "        self.k = k\n",
    "        \n",
    "    def result(self):\n",
    "        \"\"\"\n",
    "        Return the reversed char by the specified condition\n",
    "        \n",
    "        \"\"\"\n",
    "        try:\n",
    "            if len(self.string) < self.k:\n",
    "                return self.string[::-1]\n",
    "\n",
    "            else:\n",
    "                v = \"\"\n",
    "                for i in range ((len(self.string)//self.k)+1):\n",
    "\n",
    "                    r = self.string[0:self.k]\n",
    "                    self.string = self.string[self.k:]\n",
    "\n",
    "                    if i % 2 == 0:\n",
    "                        v = v + r[::-1]\n",
    "\n",
    "                    if i % 2 != 0:\n",
    "                        v = v + r\n",
    "\n",
    "                    elif i == (len(s)//k):\n",
    "                        v = v + r\n",
    "\n",
    "                return v\n",
    "\n",
    "            logging.info('Successfully returned the reversed char by the specified condition')\n",
    "                \n",
    "        except Exception as e:\n",
    "            logging.error(\"Exception occurred\", traceback.format_exc())\n",
    "        \n",
    "        \n",
    "a = k_shift('abcdefg',2)\n",
    "a.result()"
   ]
  },
  {
   "cell_type": "markdown",
   "id": "acfab82d",
   "metadata": {},
   "source": [
    "Question 7:"
   ]
  },
  {
   "cell_type": "code",
   "execution_count": 436,
   "id": "5ad1dc7e",
   "metadata": {},
   "outputs": [
    {
     "data": {
      "text/plain": [
       "True"
      ]
     },
     "execution_count": 436,
     "metadata": {},
     "output_type": "execute_result"
    }
   ],
   "source": [
    "class same:\n",
    "    \n",
    "    def __init__(self,s1,s2):\n",
    "        self.s1 = list(s1)\n",
    "        self.s2 = list(s2)\n",
    "        \n",
    "    def compare(self):\n",
    "        \"\"\"\n",
    "        Return True if both are same or otherwise\n",
    "        \n",
    "        \"\"\"\n",
    "        \n",
    "        c_s1 = self.s1.count('#')\n",
    "        c_s2 = self.s2.count('#')\n",
    "        \n",
    "        try:\n",
    "            \n",
    "            for i in range(c_s1):\n",
    "                index = self.s1.index('#')\n",
    "                self.s1.remove('#')\n",
    "                self.s1.remove(self.s1[index-1])\n",
    "\n",
    "            for i in range(c_s2):\n",
    "                index = self.s2.index('#')\n",
    "                self.s2.remove('#')\n",
    "                self.s2.remove(self.s2[index-1])\n",
    "\n",
    "            if self.s1 == self.s2:\n",
    "                return True\n",
    "            else:\n",
    "                return False\n",
    "            \n",
    "            logging.info('Successfully returned True if both are same or otherwise')\n",
    "                \n",
    "        except Exception as e:\n",
    "            logging.error(\"Exception occurred\", traceback.format_exc())\n",
    "        \n",
    "a = same('ab#c',\"ad#c\")\n",
    "a.compare()"
   ]
  },
  {
   "cell_type": "markdown",
   "id": "90f8c47f",
   "metadata": {},
   "source": [
    "Question 8:"
   ]
  },
  {
   "cell_type": "code",
   "execution_count": 451,
   "id": "68027836",
   "metadata": {},
   "outputs": [
    {
     "data": {
      "text/plain": [
       "True"
      ]
     },
     "execution_count": 451,
     "metadata": {},
     "output_type": "execute_result"
    }
   ],
   "source": [
    "class line:\n",
    "    \n",
    "    def __init__(self,cord):\n",
    "        \n",
    "        self.cord = cord\n",
    "        \n",
    "    def st_line(self):\n",
    "        \"\"\" \n",
    "        Return coordinates are in straight line or not\n",
    "        \n",
    "        \"\"\"\n",
    "        x1,y1 = self.cord[0]\n",
    "        x2,y2 = self.cord[1]\n",
    "        \n",
    "        try:\n",
    "            for i in range(2,len(self.cord)):\n",
    "                x,y = self.cord[i]\n",
    "\n",
    "                if (y - y1) * (x - x2) != (y - y2) * (x - x1):\n",
    "                    return (False)\n",
    "\n",
    "\n",
    "            return (True)\n",
    "\n",
    "            logging.info('Successfully returned coordinates are in straight line or not')\n",
    "\n",
    "        except Exception as e:\n",
    "            logging.error(\"Exception occurred\", traceback.format_exc())\n",
    "    \n",
    "    \n",
    "a = line([[1,2],[2,3],[3,4],[4,5],[5,6],[6,7]])\n",
    "a.st_line()"
   ]
  }
 ],
 "metadata": {
  "kernelspec": {
   "display_name": "Python 3 (ipykernel)",
   "language": "python",
   "name": "python3"
  },
  "language_info": {
   "codemirror_mode": {
    "name": "ipython",
    "version": 3
   },
   "file_extension": ".py",
   "mimetype": "text/x-python",
   "name": "python",
   "nbconvert_exporter": "python",
   "pygments_lexer": "ipython3",
   "version": "3.9.13"
  }
 },
 "nbformat": 4,
 "nbformat_minor": 5
}
