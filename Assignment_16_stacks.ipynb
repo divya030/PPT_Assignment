{
 "cells": [
  {
   "cell_type": "markdown",
   "id": "d7642805",
   "metadata": {},
   "source": [
    "Question 2:"
   ]
  },
  {
   "cell_type": "code",
   "execution_count": 9,
   "id": "2ac4b088",
   "metadata": {},
   "outputs": [
    {
     "data": {
      "text/plain": [
       "[3, 23, 31, 34, 92, 98]"
      ]
     },
     "execution_count": 9,
     "metadata": {},
     "output_type": "execute_result"
    }
   ],
   "source": [
    "def sort_stack(stack):\n",
    "    temp = []\n",
    "    \n",
    "    while stack:\n",
    "        c = stack.pop()\n",
    "        while temp and temp[-1] < c:\n",
    "            stack.append(temp.pop())\n",
    "            \n",
    "        temp.append(c)\n",
    "        \n",
    "    while temp:\n",
    "        stack.append(temp.pop())\n",
    "        \n",
    "    return stack\n",
    "\n",
    "\n",
    "sort_stack([34, 3, 31, 98, 92, 23])"
   ]
  },
  {
   "cell_type": "markdown",
   "id": "e805fc8a",
   "metadata": {},
   "source": [
    "Question 3:"
   ]
  },
  {
   "cell_type": "code",
   "execution_count": 28,
   "id": "ba00f22c",
   "metadata": {},
   "outputs": [
    {
     "data": {
      "text/plain": [
       "[1, 2, 3, 4, 5, 6]"
      ]
     },
     "execution_count": 28,
     "metadata": {},
     "output_type": "execute_result"
    }
   ],
   "source": [
    "class stack:\n",
    "    def __init__(self):\n",
    "        self.item = []\n",
    "        \n",
    "    def isEmpty(self):\n",
    "        return self.item == []\n",
    "    \n",
    "    def push(self,data):\n",
    "        self.item.append(data)\n",
    "        return self.item\n",
    "    \n",
    "    def pop(self):\n",
    "        return self.item.pop\n",
    "        \n",
    "        \n",
    "def delete(st, n, curr):\n",
    "    if (st.isEmpty() or curr == n) :\n",
    "        return\n",
    "    x = st.peek()\n",
    "    st.pop()\n",
    "      \n",
    "    delete(st, n, curr+1)\n",
    "      \n",
    "    \n",
    "    if (curr != int(n/2)) :\n",
    "        st.push(x)\n",
    "    \n",
    "    \n",
    "x = stack()\n",
    "x.push(1)\n",
    "x.push(2)\n",
    "x.push(3)\n",
    "x.push(4)\n",
    "x.push(5)\n",
    "x.push(6)\n"
   ]
  },
  {
   "cell_type": "markdown",
   "id": "e8958c1c",
   "metadata": {},
   "source": [
    "Question 5 :"
   ]
  },
  {
   "cell_type": "code",
   "execution_count": 39,
   "id": "b6892d31",
   "metadata": {},
   "outputs": [],
   "source": [
    "class Stack:\n",
    "    def __init__(self):\n",
    "        self.items = []\n",
    " \n",
    "    def is_empty(self):\n",
    "        return self.items == []\n",
    " \n",
    "    def push(self, data):\n",
    "        self.items.append(data)\n",
    " \n",
    "    def pop(self):\n",
    "        return self.items.pop()\n",
    " \n",
    "    def display(self):\n",
    "        for data in reversed(self.items):\n",
    "            print(data)\n",
    "            \n",
    "def insert_at_bottom(s, data):\n",
    "    if s.is_empty():\n",
    "        s.push(data)\n",
    "    else:\n",
    "        popped = s.pop()\n",
    "        insert_at_bottom(s, data)\n",
    "        s.push(popped)\n",
    " \n",
    " \n",
    "def reverse_stack(s):\n",
    "    if not s.is_empty():\n",
    "        popped = s.pop()\n",
    "        reverse_stack(s)\n",
    "        insert_at_bottom(s, popped)\n"
   ]
  },
  {
   "cell_type": "markdown",
   "id": "a59f4f25",
   "metadata": {},
   "source": [
    "Question 7:"
   ]
  },
  {
   "cell_type": "code",
   "execution_count": 43,
   "id": "a6fc17cf",
   "metadata": {},
   "outputs": [
    {
     "data": {
      "text/plain": [
       "3"
      ]
     },
     "execution_count": 43,
     "metadata": {},
     "output_type": "execute_result"
    }
   ],
   "source": [
    "def remove(v):\n",
    "    st = []\n",
    "    for i in range(len(v)):\n",
    "        if (len(st) == 0):\n",
    "            st.append(v[i])\n",
    "        else:\n",
    "            Str = st[-1]\n",
    "            if (Str == v[i]):\n",
    "                st.pop()\n",
    "            else:\n",
    "                st.append(v[i])\n",
    "\n",
    "    return len(st)\n",
    "\n",
    "\n",
    "st = [ \"ab\", \"aa\", \"aa\", \"bcd\", \"ab\"]\n",
    "remove(st)"
   ]
  },
  {
   "cell_type": "markdown",
   "id": "0a1cb820",
   "metadata": {},
   "source": [
    "Question 8:"
   ]
  },
  {
   "cell_type": "code",
   "execution_count": 50,
   "id": "d6dc2a11",
   "metadata": {},
   "outputs": [
    {
     "data": {
      "text/plain": [
       "8"
      ]
     },
     "execution_count": 50,
     "metadata": {},
     "output_type": "execute_result"
    }
   ],
   "source": [
    "def maxi(nums):\n",
    "    maxDiff = -1\n",
    "\n",
    "    minNum = nums[0]\n",
    "\n",
    "    for i in range(len(nums)):\n",
    "        maxDiff = max(maxDiff, nums[i] - minNum)\n",
    "        minNum = min(minNum, nums[i])\n",
    "\n",
    "    return maxDiff if maxDiff != 0 else -1\n",
    "\n",
    "maxi([5, 1, 9, 2, 5, 1, 7])"
   ]
  }
 ],
 "metadata": {
  "kernelspec": {
   "display_name": "Python 3 (ipykernel)",
   "language": "python",
   "name": "python3"
  },
  "language_info": {
   "codemirror_mode": {
    "name": "ipython",
    "version": 3
   },
   "file_extension": ".py",
   "mimetype": "text/x-python",
   "name": "python",
   "nbconvert_exporter": "python",
   "pygments_lexer": "ipython3",
   "version": "3.9.13"
  }
 },
 "nbformat": 4,
 "nbformat_minor": 5
}
