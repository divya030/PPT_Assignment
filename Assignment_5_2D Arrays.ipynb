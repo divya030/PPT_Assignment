{
 "cells": [
  {
   "cell_type": "code",
   "execution_count": 1,
   "id": "0edf0a63",
   "metadata": {},
   "outputs": [],
   "source": [
    "import numpy as np"
   ]
  },
  {
   "cell_type": "markdown",
   "id": "39729e84",
   "metadata": {},
   "source": [
    "Question 1:"
   ]
  },
  {
   "cell_type": "code",
   "execution_count": 2,
   "id": "67bbd9b2",
   "metadata": {},
   "outputs": [
    {
     "data": {
      "text/plain": [
       "array([[1, 2],\n",
       "       [3, 4]])"
      ]
     },
     "execution_count": 2,
     "metadata": {},
     "output_type": "execute_result"
    }
   ],
   "source": [
    "import logging \n",
    "import traceback\n",
    "\n",
    "logging.basicConfig(filename=\"log_file.log\",level=logging.INFO,format='%(asctime)s %(levelname)s %(message)s')\n",
    "\n",
    "\n",
    "class _2d_array:\n",
    "    \n",
    "    def __init__(self,input_array,rows,columns):\n",
    "        \n",
    "        self.input_array = input_array\n",
    "        self.rows = rows\n",
    "        self.columns = columns\n",
    "        \n",
    "    def to_2d (self):\n",
    "        \"\"\"\n",
    "        Convert 1D array to 2D array\n",
    "        \n",
    "        \"\"\"\n",
    "        try:\n",
    "            input_array = self.input_array.reshape(self.rows,self.columns)\n",
    "            \n",
    "            return input_array\n",
    "        \n",
    "            logging.info('Converted 1D array to 2D array')\n",
    "            \n",
    "        except Exception as e:\n",
    "            logging.error(\"Exception occurred\", traceback.format_exc())\n",
    "    \n",
    "    \n",
    "a = _2d_array(np.array([1,2,3,4]),2,2)\n",
    "a.to_2d()"
   ]
  },
  {
   "cell_type": "markdown",
   "id": "c013b2c8",
   "metadata": {},
   "source": [
    "Question 2:"
   ]
  },
  {
   "cell_type": "code",
   "execution_count": 3,
   "id": "e38de543",
   "metadata": {},
   "outputs": [
    {
     "data": {
      "text/plain": [
       "2"
      ]
     },
     "execution_count": 3,
     "metadata": {},
     "output_type": "execute_result"
    }
   ],
   "source": [
    "class coins:\n",
    "    \n",
    "    def __init__(self,input_array):\n",
    "        self.input_array = input_array\n",
    "                 \n",
    "    def rows (self):\n",
    "        \"\"\"\n",
    "        Returns the completed rowes of coins\n",
    "        \n",
    "        \"\"\"\n",
    "        try:\n",
    "            summ = 0\n",
    "            v = []\n",
    "\n",
    "            for i in range(1,(self.input_array-1)):\n",
    "                summ += i\n",
    "                if summ < self.input_array:\n",
    "                    v.append(i)\n",
    "                elif summ == self.input_array:\n",
    "                    v.append(i)\n",
    "\n",
    "            return (max(v))\n",
    "        \n",
    "            logging.info('Returned the completed rowes of coins')\n",
    "            \n",
    "        except Exception as e:\n",
    "            logging.error(\"Exception occurred\", traceback.format_exc())\n",
    "                 \n",
    "        \n",
    "a = coins(5)\n",
    "a.rows()"
   ]
  },
  {
   "cell_type": "markdown",
   "id": "31f1665d",
   "metadata": {},
   "source": [
    "Question 3:"
   ]
  },
  {
   "cell_type": "code",
   "execution_count": 4,
   "id": "1328078b",
   "metadata": {},
   "outputs": [
    {
     "data": {
      "text/plain": [
       "[0, 1, 9, 16, 100]"
      ]
     },
     "execution_count": 4,
     "metadata": {},
     "output_type": "execute_result"
    }
   ],
   "source": [
    "class arr:\n",
    "    \n",
    "    def __init__(self,input_array):\n",
    "        self.input_array = input_array\n",
    "                 \n",
    "    def asscending (self):\n",
    "        \"\"\"\n",
    "        Returns squared of elements in a non decreasing oreder\n",
    "        \n",
    "        \"\"\"\n",
    "        try:\n",
    "            squared = []\n",
    "\n",
    "            for i in self.input_array:\n",
    "                squared.append(i*i)\n",
    "\n",
    "            return (sorted(squared))\n",
    "            \n",
    "            logging.info('Returns squared of elements in a non decreasing oreder')\n",
    "            \n",
    "        except Exception as e:\n",
    "            logging.error(\"Exception occurred\", traceback.format_exc())\n",
    "        \n",
    "    \n",
    "a = arr(np.array([-4,-1,0,3,10]))\n",
    "a.asscending()"
   ]
  },
  {
   "cell_type": "markdown",
   "id": "67a64284",
   "metadata": {},
   "source": [
    "Question 4:"
   ]
  },
  {
   "cell_type": "code",
   "execution_count": 5,
   "id": "f7c0e2fb",
   "metadata": {},
   "outputs": [
    {
     "data": {
      "text/plain": [
       "[[1, 3], [4, 6]]"
      ]
     },
     "execution_count": 5,
     "metadata": {},
     "output_type": "execute_result"
    }
   ],
   "source": [
    "class distinct:\n",
    "    \n",
    "    def __init__(self,_1_array,_2_array):\n",
    "        self._1_array = _1_array\n",
    "        self._2_array = _2_array\n",
    "                 \n",
    "    def array (self):\n",
    "        \"\"\"\n",
    "        Returns distinct nums of both array\n",
    "        \n",
    "        \"\"\"\n",
    "        try:\n",
    "            \n",
    "            a1 = set (self._1_array)\n",
    "            a2 = set (self._2_array)\n",
    "\n",
    "            x1 = a1.copy()\n",
    "\n",
    "            distinct_list = []\n",
    "\n",
    "            for i in a1:\n",
    "                if i in a2:\n",
    "                    a2.remove(i)\n",
    "                    x1.remove(i)\n",
    "\n",
    "            distinct_list = [list(x1)] + [list(a2)]\n",
    "            \n",
    "            return distinct_list\n",
    "        \n",
    "            logging.info('Returned distinct nums of both array')\n",
    "            \n",
    "        except Exception as e:\n",
    "            logging.error(\"Exception occurred\", traceback.format_exc())\n",
    "        \n",
    "    \n",
    "    \n",
    "a = distinct(np.array([1,2,3]),np.array([2,4,6]))\n",
    "a.array()"
   ]
  },
  {
   "cell_type": "markdown",
   "id": "cec5b858",
   "metadata": {},
   "source": [
    "Question 5:"
   ]
  },
  {
   "cell_type": "code",
   "execution_count": 6,
   "id": "711248b4",
   "metadata": {},
   "outputs": [
    {
     "data": {
      "text/plain": [
       "2"
      ]
     },
     "execution_count": 6,
     "metadata": {},
     "output_type": "execute_result"
    }
   ],
   "source": [
    "class dis:\n",
    "    \n",
    "    def __init__(self,_1_array,_2_array,distance):\n",
    "        self._1_array = _1_array\n",
    "        self._2_array = _2_array\n",
    "        self.distance = distance\n",
    "        \n",
    "    def dis_tance (self):\n",
    "        \"\"\"\n",
    "        Return the distance value between the two arrays.\n",
    "        \n",
    "        \"\"\"\n",
    "        try:\n",
    "        \n",
    "            count  = 0 \n",
    "\n",
    "            for i in self._1_array:\n",
    "\n",
    "                index_count = 0\n",
    "\n",
    "                for j in self._2_array:\n",
    "\n",
    "                    if abs(i-j) <= self.distance:\n",
    "                        continue\n",
    "                    else:\n",
    "                        index_count += 1\n",
    "\n",
    "                if index_count == len(self._2_array):\n",
    "                    count += 1\n",
    "\n",
    "            return count\n",
    "    \n",
    "            logging.info('return the distance value between the two arrays.')\n",
    "            \n",
    "        except Exception as e:\n",
    "            logging.error(\"Exception occurred\", traceback.format_exc())\n",
    "    \n",
    "a = dis(np.array([4,5,8]),np.array([10,9,1,8]),2)\n",
    "a.dis_tance()"
   ]
  },
  {
   "cell_type": "markdown",
   "id": "71a73e01",
   "metadata": {},
   "source": [
    "Question 6:"
   ]
  },
  {
   "cell_type": "code",
   "execution_count": 7,
   "id": "d44d1d56",
   "metadata": {},
   "outputs": [
    {
     "data": {
      "text/plain": [
       "[3, 2]"
      ]
     },
     "execution_count": 7,
     "metadata": {},
     "output_type": "execute_result"
    }
   ],
   "source": [
    "class arr:\n",
    "    \n",
    "    def __init__(self,input_array):\n",
    "        self.input_array = input_array\n",
    "                 \n",
    "    def twice (self):\n",
    "        \"\"\"\n",
    "        return an array of all the integers that appears twice.\n",
    "        \n",
    "        \"\"\"\n",
    "        try:\n",
    "            \n",
    "            input_array = list(self.input_array)\n",
    "\n",
    "            twice = []\n",
    "\n",
    "            for i in input_array:\n",
    "                if input_array.count(i) == 2:\n",
    "                    if i not in twice:\n",
    "                        twice.append(i)\n",
    "            return (twice)\n",
    "            \n",
    "            logging.info('return an array of all the integers that appears twice.')\n",
    "            \n",
    "        except Exception as e:\n",
    "            logging.error(\"Exception occurred\", traceback.format_exc())\n",
    "            \n",
    "a = arr(np.array([4,3,2,7,8,2,3,1]))\n",
    "a.twice()"
   ]
  },
  {
   "cell_type": "markdown",
   "id": "3bf8671b",
   "metadata": {},
   "source": [
    "Question 7:"
   ]
  },
  {
   "cell_type": "code",
   "execution_count": 8,
   "id": "73815a41",
   "metadata": {},
   "outputs": [
    {
     "data": {
      "text/plain": [
       "1"
      ]
     },
     "execution_count": 8,
     "metadata": {},
     "output_type": "execute_result"
    }
   ],
   "source": [
    "class _2d_array:\n",
    "    \n",
    "    def __init__(self,input_array,rotation):\n",
    "        \n",
    "        self.input_array = input_array\n",
    "        self.rotation = rotation\n",
    "        \n",
    "        \n",
    "    def rotate (self):\n",
    "        \"\"\"\n",
    "        Return the minimum element of this array after rotation.\n",
    "        \n",
    "        \"\"\"\n",
    "        try:\n",
    "            \n",
    "            for r in range(self.rotation):\n",
    "\n",
    "                empty = []\n",
    "\n",
    "                for i in range(len(self.input_array)):\n",
    "                    if i == 0:\n",
    "                        empty.append(self.input_array[len(self.input_array)-(i+1)])\n",
    "\n",
    "                    else:\n",
    "                        empty.append(self.input_array[(i-1) - len(self.input_array)])\n",
    "\n",
    "                self.input_array = empty\n",
    "\n",
    "            return (min(self.input_array))\n",
    "\n",
    "            logging.info('Return the minimum element of this array after rotation.')\n",
    "            \n",
    "        except Exception as e:\n",
    "            logging.error(\"Exception occurred\", traceback.format_exc())\n",
    "    \n",
    "    \n",
    "a = _2d_array(np.array([3,4,5,1,2]),3)\n",
    "a.rotate()"
   ]
  },
  {
   "cell_type": "markdown",
   "id": "990fcc74",
   "metadata": {},
   "source": [
    "Question 8:"
   ]
  },
  {
   "cell_type": "code",
   "execution_count": 29,
   "id": "feaa6fab",
   "metadata": {},
   "outputs": [
    {
     "data": {
      "text/plain": [
       "[1, 3, 4]"
      ]
     },
     "execution_count": 29,
     "metadata": {},
     "output_type": "execute_result"
    }
   ],
   "source": [
    "class array:\n",
    "    \n",
    "    def __init__(self,input_array):\n",
    "        \n",
    "        self.input_array = input_array\n",
    "        \n",
    "    def rotate (self):\n",
    "        \"\"\"\n",
    "        Returns original or empty array if its doubled or otherwise\n",
    "        \n",
    "        \"\"\"\n",
    "        try:\n",
    "            \n",
    "            doubled = []\n",
    "\n",
    "            if len(self.input_array) % 2 == 0:\n",
    "\n",
    "                for i in range(len(self.input_array)//2):\n",
    "\n",
    "                    if self.input_array[i] * 2 not in self.input_array[len(self.input_array)//2:]:\n",
    "                        break\n",
    "\n",
    "                    else:\n",
    "\n",
    "                        doubled.append(self.input_array[i])\n",
    "\n",
    "            return doubled\n",
    "\n",
    "            logging.info('Returns original or empty array if its doubled or otherwise')\n",
    "            \n",
    "        except Exception as e:\n",
    "            logging.error(\"Exception occurred\", traceback.format_exc())\n",
    "        \n",
    "    \n",
    "    \n",
    "a = array(np.array([1,3,4,2,6,8]))\n",
    "a.rotate()"
   ]
  }
 ],
 "metadata": {
  "kernelspec": {
   "display_name": "Python 3 (ipykernel)",
   "language": "python",
   "name": "python3"
  },
  "language_info": {
   "codemirror_mode": {
    "name": "ipython",
    "version": 3
   },
   "file_extension": ".py",
   "mimetype": "text/x-python",
   "name": "python",
   "nbconvert_exporter": "python",
   "pygments_lexer": "ipython3",
   "version": "3.9.13"
  }
 },
 "nbformat": 4,
 "nbformat_minor": 5
}
