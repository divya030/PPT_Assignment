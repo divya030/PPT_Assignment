{
 "cells": [
  {
   "cell_type": "code",
   "execution_count": 3,
   "id": "ec77320f",
   "metadata": {},
   "outputs": [],
   "source": [
    "import numpy as np\n",
    "\n",
    "import logging \n",
    "import traceback\n",
    "import numpy as np \n",
    "\n",
    "logging.basicConfig(filename=\"log_file.log\",level=logging.INFO,format='%(asctime)s %(levelname)s %(message)s')"
   ]
  },
  {
   "cell_type": "markdown",
   "id": "8c15609e",
   "metadata": {},
   "source": [
    "Question 1:"
   ]
  },
  {
   "cell_type": "code",
   "execution_count": 11,
   "id": "351b042c",
   "metadata": {},
   "outputs": [
    {
     "data": {
      "text/plain": [
       "[0, 4, 1, 3, 2]"
      ]
     },
     "execution_count": 11,
     "metadata": {},
     "output_type": "execute_result"
    }
   ],
   "source": [
    "class inclusive:\n",
    "    \n",
    "    def __init__(self,arr):\n",
    "        \n",
    "        self.arr = arr\n",
    "        \n",
    "    def array(self):\n",
    "        \"\"\"\n",
    "        Reconstructing the permutation perm\n",
    "        \n",
    "        \"\"\"\n",
    "        try:\n",
    "            values = []\n",
    "            mini = 0\n",
    "            maxe = len(self.arr)\n",
    "\n",
    "            for i in self.arr:\n",
    "                if i == 'I':\n",
    "                    values.append(mini)\n",
    "                    mini += 1\n",
    "                else:\n",
    "                    values.append(maxe)\n",
    "                    maxe -= 1\n",
    "            return (values + [maxe])\n",
    "        \n",
    "            logging.info('Successfully Reconstructed the permutation perm')\n",
    "\n",
    "        except Exception as e:\n",
    "            logging.error(\"Exception occurred\", traceback.format_exc())\n",
    "            \n",
    "            \n",
    "a = inclusive(\"IDID\")\n",
    "a.array()"
   ]
  },
  {
   "cell_type": "markdown",
   "id": "6879faa5",
   "metadata": {},
   "source": [
    "Question 2:"
   ]
  },
  {
   "cell_type": "code",
   "execution_count": 208,
   "id": "7a8b9b7f",
   "metadata": {},
   "outputs": [
    {
     "data": {
      "text/plain": [
       "True"
      ]
     },
     "execution_count": 208,
     "metadata": {},
     "output_type": "execute_result"
    }
   ],
   "source": [
    "class matrix:\n",
    "    \n",
    "    def __init__(self,arr,target):\n",
    "        \n",
    "        self.arr = arr\n",
    "        self.target = target\n",
    "        \n",
    "    def find_target(self):\n",
    "        \"\"\"\n",
    "        Return True if target in the given array\n",
    "        \n",
    "        \"\"\"\n",
    "        try:\n",
    "            \n",
    "            for i in range(len(self.arr)):\n",
    "\n",
    "                if self.target in self.arr[i]:\n",
    "                    return True\n",
    "\n",
    "            return False\n",
    "        \n",
    "            logging.info('Successfully Returned True if target in the given array')\n",
    "\n",
    "        except Exception as e:\n",
    "            logging.error(\"Exception occurred\", traceback.format_exc())\n",
    "    \n",
    "a = matrix([[1,3,5,7],[10,11,16,20],[23,30,34,60]],3)\n",
    "a.find_target()"
   ]
  },
  {
   "cell_type": "markdown",
   "id": "a7959a6a",
   "metadata": {},
   "source": [
    "Question 3:"
   ]
  },
  {
   "cell_type": "code",
   "execution_count": 213,
   "id": "91cf8f84",
   "metadata": {},
   "outputs": [
    {
     "data": {
      "text/plain": [
       "True"
      ]
     },
     "execution_count": 213,
     "metadata": {},
     "output_type": "execute_result"
    }
   ],
   "source": [
    "class mountain:\n",
    "    \n",
    "    def __init__(self,arr):\n",
    "        \n",
    "        self.arr = arr\n",
    "        \n",
    "    def array(self):\n",
    "        \"\"\"\n",
    "        Return Mountain Array or not\n",
    "        \n",
    "        \"\"\"\n",
    "        try:\n",
    "            \n",
    "            arr = list(self.arr)\n",
    "            \n",
    "            index = arr.index(max(self.arr))\n",
    "\n",
    "            inc = arr[:(index)+1]\n",
    "\n",
    "            dec = arr[index:]\n",
    "\n",
    "\n",
    "            if len(inc) > 1  and len(dec) > 1:\n",
    "                if inc == sorted(inc) and dec == sorted(dec,reverse = True):\n",
    "                    for i in range(len(arr)):\n",
    "                        if i <= arr.index(max(arr)):\n",
    "                            if inc.count(inc[i]) == 1:\n",
    "                                continue\n",
    "                            else:\n",
    "                                break\n",
    "\n",
    "                        else:\n",
    "                            if dec.count(arr[i]) == 1:\n",
    "                                continue\n",
    "                            else:\n",
    "                                break\n",
    "                    return True\n",
    "\n",
    "                else:\n",
    "                    return (False)\n",
    "\n",
    "            else:\n",
    "                return (False)\n",
    "            \n",
    "            logging.info('Successfully Returned Mountain Array or not')\n",
    "\n",
    "        except Exception as e:\n",
    "            logging.error(\"Exception occurred\", traceback.format_exc())\n",
    "        \n",
    "        \n",
    "        \n",
    "a = mountain(np.array([1,4,6,5,3]))\n",
    "a.array()"
   ]
  },
  {
   "cell_type": "markdown",
   "id": "b91a997b",
   "metadata": {},
   "source": [
    "Question 6:"
   ]
  },
  {
   "cell_type": "code",
   "execution_count": 276,
   "id": "ca052fea",
   "metadata": {},
   "outputs": [
    {
     "data": {
      "text/plain": [
       "[1, 3, 4]"
      ]
     },
     "execution_count": 276,
     "metadata": {},
     "output_type": "execute_result"
    }
   ],
   "source": [
    "class array:\n",
    "    \n",
    "    def __init__(self,input_array):\n",
    "        \n",
    "        self.input_array = input_array\n",
    "        \n",
    "    def rotate (self):\n",
    "        \"\"\"\n",
    "        Returns original or empty array if its doubled or otherwise\n",
    "        \n",
    "        \"\"\"\n",
    "        try:\n",
    "            \n",
    "            doubled = []\n",
    "\n",
    "            if len(self.input_array) % 2 == 0:\n",
    "\n",
    "                for i in range(len(self.input_array)//2):\n",
    "\n",
    "                    if self.input_array[i] * 2 not in self.input_array[len(self.input_array)//2:]:\n",
    "                        break\n",
    "\n",
    "                    else:\n",
    "\n",
    "                        doubled.append(self.input_array[i])\n",
    "\n",
    "            return doubled\n",
    "\n",
    "            logging.info('Returns original or empty array if its doubled or otherwise')\n",
    "            \n",
    "        except Exception as e:\n",
    "            logging.error(\"Exception occurred\", traceback.format_exc())\n",
    "        \n",
    "    \n",
    "    \n",
    "a = array(np.array([1,3,4,2,6,8]))\n",
    "a.rotate()"
   ]
  },
  {
   "cell_type": "markdown",
   "id": "41fab8ec",
   "metadata": {},
   "source": [
    "Question 7:"
   ]
  },
  {
   "cell_type": "code",
   "execution_count": 767,
   "id": "3abe2b24",
   "metadata": {},
   "outputs": [
    {
     "name": "stdout",
     "output_type": "stream",
     "text": [
      "[[1 2 3]\n",
      " [8 9 4]\n",
      " [7 6 5]]\n"
     ]
    }
   ],
   "source": [
    "mat = np.ones((3,3),dtype = int)\n",
    "a = 0\n",
    "\n",
    "while a < 3:\n",
    "\n",
    "    for i in range(len(mat)):\n",
    "        for j in range(len(mat)):\n",
    "            val = []\n",
    "            if i == 0:\n",
    "                mat[i][j] = j+1\n",
    "\n",
    "            if i != 0 and j == len(mat)-1:\n",
    "                mat[i][j] = (mat[0][len(mat)-1])+i\n",
    "\n",
    "            if i == len(mat)-1 and j != len(mat)-1:\n",
    "                val.append(mat[i][len(mat)-1])\n",
    "                mat[i][-j+i-1] = max(val) + j+1\n",
    "            \n",
    "                \n",
    "            elif i != len(mat)-1 and j == 0:\n",
    "                val.append(mat[len(mat) -1][j])\n",
    "                mat[-i+len(mat)-1][0] = max(val) + i\n",
    "                \n",
    "            elif i != 0 and i != len(mat) -1 and j != 0 and j != len(mat) -1:\n",
    "                if i == 1:\n",
    "                    val.append(mat[i][0])\n",
    "                    mat[i][j] = max(val) + j\n",
    "\n",
    "                else:\n",
    "                    val.append(mat[1][len(mat)-2])\n",
    "                    mat[i][len(mat)-j-1] = max(val)+j\n",
    "                    \n",
    "\n",
    "\n",
    "            \n",
    "    a += 1\n",
    "print(np.squeeze(np.asarray(mat)))"
   ]
  }
 ],
 "metadata": {
  "kernelspec": {
   "display_name": "Python 3 (ipykernel)",
   "language": "python",
   "name": "python3"
  },
  "language_info": {
   "codemirror_mode": {
    "name": "ipython",
    "version": 3
   },
   "file_extension": ".py",
   "mimetype": "text/x-python",
   "name": "python",
   "nbconvert_exporter": "python",
   "pygments_lexer": "ipython3",
   "version": "3.9.13"
  }
 },
 "nbformat": 4,
 "nbformat_minor": 5
}
