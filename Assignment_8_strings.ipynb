{
 "cells": [
  {
   "cell_type": "code",
   "execution_count": 1,
   "id": "7ffdf551",
   "metadata": {},
   "outputs": [],
   "source": [
    "import logging \n",
    "import traceback\n",
    "import numpy as np \n",
    "\n",
    "logging.basicConfig(filename=\"log_file.log\",level=logging.INFO,format='%(asctime)s %(levelname)s %(message)s')"
   ]
  },
  {
   "cell_type": "markdown",
   "id": "ec10e7f1",
   "metadata": {},
   "source": [
    "Question 1:"
   ]
  },
  {
   "cell_type": "code",
   "execution_count": 205,
   "id": "4cf748f4",
   "metadata": {},
   "outputs": [
    {
     "name": "stdout",
     "output_type": "stream",
     "text": [
      "231\n"
     ]
    }
   ],
   "source": [
    "s = 'sea'\n",
    "\n",
    "c = 'eat'\n",
    "\n",
    "l = []\n",
    "\n",
    "x = 0\n",
    "\n",
    "for i in s:\n",
    "    if i not in c :\n",
    "        l.append(ord(i))\n",
    "        s = s.replace(i,\"\")\n",
    "        \n",
    "    if i in c:\n",
    "\n",
    "        if s.count(i) == c.count(i):\n",
    "            continue\n",
    "            \n",
    "        elif s.count(i) > c.count(i):\n",
    "            s = s.replace(i,\"\",s.count(i) - c.count(i))\n",
    "            \n",
    "            \n",
    "        elif s.count(i) < c.count(i):\n",
    "            c = c.replace(i,\"\",c.count(i) - s.count(i))\n",
    "            \n",
    "\n",
    "for j in c:\n",
    "    \n",
    "    if j not in s :\n",
    "        l.append(ord(j))\n",
    "        c = c.replace(j,\"\")\n",
    "        \n",
    "    if j in s:\n",
    "\n",
    "        if c.count(j) == s.count(j):\n",
    "            continue\n",
    "            \n",
    "        elif c.count(j) > s.count(j):\n",
    "            c = c.replace(j,\"\",c.count(j) - s.count(j))\n",
    "            \n",
    "            \n",
    "        elif c.count(j) < s.count(j):\n",
    "            s = s.replace(j,\"\",s.count(j) - c.count(j))\n",
    "            \n",
    "\n",
    "for i in s:\n",
    "    if i in c:\n",
    "        x += 1\n",
    "        \n",
    "if x == len(c):\n",
    "    print(sum(l))\n",
    "else:\n",
    "    print(False)"
   ]
  },
  {
   "cell_type": "markdown",
   "id": "7b2e93d6",
   "metadata": {},
   "source": [
    "Question 2:"
   ]
  },
  {
   "cell_type": "code",
   "execution_count": 105,
   "id": "4fa4fddd",
   "metadata": {},
   "outputs": [
    {
     "data": {
      "text/plain": [
       "True"
      ]
     },
     "execution_count": 105,
     "metadata": {},
     "output_type": "execute_result"
    }
   ],
   "source": [
    "class star:\n",
    "    \n",
    "    def __init__(self,s):\n",
    "        self.s = s\n",
    "        \n",
    "    def replace(self):\n",
    "        \"\"\"\n",
    "        Return true if s is valid based on given condition\n",
    "        \n",
    "        \"\"\"\n",
    "        \n",
    "        n = 0\n",
    "        try:\n",
    "            while n < len(self.s):\n",
    "\n",
    "                left = self.s.count('(')\n",
    "\n",
    "                right = self.s.count(\")\")\n",
    "\n",
    "                star = self.s.count(\"*\")\n",
    "\n",
    "                if left == right:\n",
    "                    self.s = self.s.replace('*',\"\")\n",
    "                    return (True)\n",
    "\n",
    "                else:\n",
    "\n",
    "                    if left < right:\n",
    "                        self.s = self.s.replace(\"*\",\"(\",1)\n",
    "\n",
    "                    if right < left:\n",
    "                        self.s = self.s.replace(\"*\",\")\",1)\n",
    "\n",
    "                n += 1\n",
    "\n",
    "\n",
    "            else:\n",
    "                return (False)\n",
    "        \n",
    "            logging.info('Successfully returned true if s is valid based on given condition')\n",
    "                \n",
    "        except Exception as e:\n",
    "            logging.error(\"Exception occurred\", traceback.format_exc())\n",
    "    \n",
    "            \n",
    "        \n",
    "a = star('()')\n",
    "a.replace()"
   ]
  },
  {
   "cell_type": "markdown",
   "id": "5bf913da",
   "metadata": {},
   "source": [
    "Question 3:"
   ]
  },
  {
   "cell_type": "code",
   "execution_count": 194,
   "id": "55cd5e39",
   "metadata": {},
   "outputs": [
    {
     "name": "stdout",
     "output_type": "stream",
     "text": [
      "2\n"
     ]
    }
   ],
   "source": [
    "s = 'seatt'\n",
    "\n",
    "c = 'eat'\n",
    "\n",
    "l = 0\n",
    "\n",
    "x = 0\n",
    "\n",
    "for i in s:\n",
    "    if i not in c :\n",
    "        l += 1\n",
    "        s = s.replace(i,\"\")\n",
    "        \n",
    "    if i in c:\n",
    "\n",
    "        if s.count(i) == c.count(i):\n",
    "            continue\n",
    "            \n",
    "        elif s.count(i) > c.count(i):\n",
    "            s = s.replace(i,\"\",s.count(i) - c.count(i))\n",
    "            l += 1\n",
    "            \n",
    "        elif s.count(i) < c.count(i):\n",
    "            c = c.replace(i,\"\",c.count(i) - s.count(i))\n",
    "            l += 1\n",
    "\n",
    "for j in c:\n",
    "    \n",
    "    if j not in s :\n",
    "        l += 1\n",
    "        c = c.replace(j,\"\")\n",
    "        \n",
    "    if j in s:\n",
    "\n",
    "        if c.count(j) == s.count(j):\n",
    "            continue\n",
    "            \n",
    "        elif c.count(j) > s.count(j):\n",
    "            c = c.replace(j,\"\",c.count(j) - s.count(j))\n",
    "            l += 1\n",
    "            \n",
    "        elif c.count(j) < s.count(j):\n",
    "            s = s.replace(j,\"\",s.count(j) - c.count(j))\n",
    "            l += 1\n",
    "\n",
    "for i in s:\n",
    "    if i in c:\n",
    "        x += 1\n",
    "if x == len(c):\n",
    "    print(l)\n",
    "else:\n",
    "    print(False)"
   ]
  },
  {
   "cell_type": "markdown",
   "id": "993f35b4",
   "metadata": {},
   "source": [
    "Question 5:"
   ]
  },
  {
   "cell_type": "code",
   "execution_count": 459,
   "id": "e0e2cdb8",
   "metadata": {},
   "outputs": [
    {
     "data": {
      "text/plain": [
       "['a', '2', 'b', '2', 'c', '3']"
      ]
     },
     "execution_count": 459,
     "metadata": {},
     "output_type": "execute_result"
    }
   ],
   "source": [
    "class count:\n",
    "    \n",
    "    def __init__ (self,a):\n",
    "        self.a = a\n",
    "    \n",
    "    def num(self):\n",
    "        \"\"\"\n",
    "        Returned a new string on given conditions\n",
    "        \n",
    "        \"\"\"\n",
    "        s = \"\"\n",
    "        try:\n",
    "        \n",
    "            for i in self.a:\n",
    "                if i not in s:\n",
    "                    count = self.a.count(i)\n",
    "                    if count < 10:\n",
    "                        s = s + i\n",
    "                        s = s + str(count)\n",
    "                    if count >= 10:\n",
    "                        for j in range((count//10)+1):\n",
    "                            s = s + i\n",
    "                            s = s + str(9)\n",
    "                            grt_10 = count - 9\n",
    "                            count = count - 9\n",
    "                            print(count)\n",
    "                            if grt_10 <= 9:\n",
    "                                s = s + i\n",
    "                                s = s + str(grt_10)\n",
    "            self.a = list(s)\n",
    "            return (self.a)\n",
    "        \n",
    "            logging.info('Successfully Returned a new string on given conditions')\n",
    "                \n",
    "        except Exception as e:\n",
    "            logging.error(\"Exception occurred\", traceback.format_exc())\n",
    "    \n",
    "        \n",
    "    \n",
    "a = count([\"a\",\"a\",\"b\",\"b\",\"c\",\"c\",\"c\"])\n",
    "a.num()"
   ]
  },
  {
   "cell_type": "markdown",
   "id": "b5037c76",
   "metadata": {},
   "source": [
    "Question 6:"
   ]
  },
  {
   "cell_type": "code",
   "execution_count": 493,
   "id": "59b64599",
   "metadata": {},
   "outputs": [
    {
     "data": {
      "text/plain": [
       "[0, 6]"
      ]
     },
     "execution_count": 493,
     "metadata": {},
     "output_type": "execute_result"
    }
   ],
   "source": [
    "class sub:\n",
    "    \n",
    "    def __init__ (self,s,p):\n",
    "        self.p = p\n",
    "        self.s = s\n",
    "        \n",
    "    def psame(self):\n",
    "        \"\"\"\n",
    "        Return an index of an anogram\n",
    "        \n",
    "        \"\"\"\n",
    "        try:\n",
    "        \n",
    "            v = []\n",
    "\n",
    "            for i in range(len(s)):\n",
    "                if self.s[i] in self.p:\n",
    "                    c = self.p\n",
    "                    for j in range (len(self.p)):\n",
    "                        sub = self.s[i:len(self.p)+i]\n",
    "                        if len(sub) == len(self.p):\n",
    "                            if sub[j] in self.p:\n",
    "                                c = c.replace(sub[j],\"\")\n",
    "                            else:\n",
    "                                break\n",
    "\n",
    "                        if len(c) == 0:\n",
    "                            v.append(i)\n",
    "\n",
    "            return v\n",
    "        \n",
    "            logging.info('Successfully Returned an index of an anogram')\n",
    "                \n",
    "        except Exception as e:\n",
    "            logging.error(\"Exception occurred\", traceback.format_exc())\n",
    "    \n",
    "    \n",
    "a = sub('cbaebabacd','abc')\n",
    "a.psame()"
   ]
  },
  {
   "cell_type": "markdown",
   "id": "152f9802",
   "metadata": {},
   "source": [
    "Question 7:"
   ]
  },
  {
   "cell_type": "code",
   "execution_count": 524,
   "id": "51403335",
   "metadata": {},
   "outputs": [
    {
     "data": {
      "text/plain": [
       "'aaabcbc'"
      ]
     },
     "execution_count": 524,
     "metadata": {},
     "output_type": "execute_result"
    }
   ],
   "source": [
    "class mul:\n",
    "    \n",
    "    def __init__(self,s):\n",
    "        \n",
    "        self.s = s\n",
    "        \n",
    "    def rep(self):\n",
    "        \"\"\"\n",
    "        Return the decoded string\n",
    "        \n",
    "        \"\"\"\n",
    "        try:\n",
    "            self.s = self.s.split(']')\n",
    "            for i in range(len(self.s)-1):\n",
    "                self.s[i] = self.s[i].split('[')\n",
    "                self.s[i][0] = int(self.s[i][0])\n",
    "                self.s[i] = (self.s[i][0]*self.s[i][1])\n",
    "\n",
    "            return(\"\".join(self.s))\n",
    "        \n",
    "            logging.info('Successfully Returned the decoded string')\n",
    "                \n",
    "        except Exception as e:\n",
    "            logging.error(\"Exception occurred\", traceback.format_exc())\n",
    "\n",
    "    \n",
    "a = mul('3[a]2[bc]')\n",
    "a.rep()"
   ]
  },
  {
   "cell_type": "markdown",
   "id": "e03c79a8",
   "metadata": {},
   "source": [
    "Question 8:"
   ]
  },
  {
   "cell_type": "code",
   "execution_count": 550,
   "id": "c2e665b5",
   "metadata": {},
   "outputs": [
    {
     "name": "stdout",
     "output_type": "stream",
     "text": [
      "True\n"
     ]
    }
   ],
   "source": [
    "s = list('ab')\n",
    "g = 'ba'\n",
    "x = 0\n",
    "for i in range(len(s)):\n",
    "    if s[i] == g[i]:\n",
    "        continue\n",
    "    else:\n",
    "        s[i] = g[i]\n",
    "        x += 1\n",
    "        \n",
    "if \"\".join(s) == g and x >= 1:\n",
    "    print(True)\n",
    "else:\n",
    "    print(False)"
   ]
  }
 ],
 "metadata": {
  "kernelspec": {
   "display_name": "Python 3 (ipykernel)",
   "language": "python",
   "name": "python3"
  },
  "language_info": {
   "codemirror_mode": {
    "name": "ipython",
    "version": 3
   },
   "file_extension": ".py",
   "mimetype": "text/x-python",
   "name": "python",
   "nbconvert_exporter": "python",
   "pygments_lexer": "ipython3",
   "version": "3.9.13"
  }
 },
 "nbformat": 4,
 "nbformat_minor": 5
}
